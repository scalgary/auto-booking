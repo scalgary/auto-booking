{
 "cells": [
  {
   "cell_type": "code",
   "execution_count": 1,
   "id": "1c817cd0",
   "metadata": {},
   "outputs": [],
   "source": [
    "from selenium import webdriver\n",
    "from webdriver_manager.chrome import ChromeDriverManager\n",
    "from selenium.webdriver.chrome.service import Service\n",
    "from selenium.webdriver.chrome.options import Options\n",
    "import time\n",
    "from selenium.webdriver.common.by import By\n",
    "\n",
    "from selenium.webdriver.support.ui import WebDriverWait\n",
    "from selenium.webdriver.support import expected_conditions as EC\n"
   ]
  },
  {
   "cell_type": "code",
   "execution_count": 2,
   "id": "186b6af7",
   "metadata": {},
   "outputs": [],
   "source": [
    "from dotenv import load_dotenv\n",
    "import os\n",
    "\n",
    "load_dotenv()  # Charge le fichier .env\n",
    "\n",
    "EMAIL = os.getenv('LOGIN_EMAIL')\n",
    "PASSWORD = os.getenv('LOGIN_PASSWORD')\n",
    "WEBSITE_URL = os.getenv('WEBSITE_URL')\n",
    "AUTRE_LIEN = os.getenv('AUTRE_LIEN')"
   ]
  },
  {
   "cell_type": "code",
   "execution_count": 3,
   "id": "9462dc15",
   "metadata": {},
   "outputs": [],
   "source": [
    "website_url = WEBSITE_URL\n",
    "email = EMAIL\n",
    "password = PASSWORD\n",
    "target_url = AUTRE_LIEN\n",
    "\n",
    "def access_login(website_url,email, password):\n",
    "    \"\"\"Script simple : saisir email + password et prendre screenshots\"\"\"\n",
    "\n",
    "    print(\"🚀 Script simple - Email + Password + Screenshots\")\n",
    "    print(\"=\" * 50)\n",
    "    #print(f\"🌐 Site: {website_url}\")\n",
    "    #print(f\"📧 Email: {email}\")\n",
    "    print(\"🔑 Password: ****\")\n",
    "    print()\n",
    "\n",
    "    # Configuration\n",
    "    options = Options()\n",
    "    options.add_argument('--headless')\n",
    "    options.add_argument('--no-sandbox')\n",
    "\n",
    "    # Driver\n",
    "    service = Service(ChromeDriverManager().install())\n",
    "    driver = webdriver.Chrome(service=service, options=options)\n",
    "\n",
    "        # Si vous avez déjà un driver ouvert\n",
    "    driver.set_window_size(1920, 1080)\n",
    "    driver.maximize_window()\n",
    "\n",
    "    # Ou définir une taille spécifique\n",
    "    driver.set_window_size(1400, 900)\n",
    "\n",
    "    # Rafraîchir la page pour que les changements prennent effet\n",
    "    driver.refresh()\n",
    "\n",
    "    # Étape 1: Aller sur le site\n",
    "    print(\"🌐 Connexion au site...\")\n",
    "    driver.get(website_url)\n",
    "    time.sleep(3)\n",
    "    print(f\"📄 Titre: {driver.title}\")\n",
    "    # Screenshot avant\n",
    "    driver.save_screenshot(\"1_avant_saisie.png\")\n",
    "    print(\"📸 Screenshot 1: 1_avant_saisie.png\")\n",
    "    email_field = driver.find_element(By.XPATH, \"//input[@type='email']\")\n",
    "    (\"✅ Champ email trouvé par type='email'\")\n",
    "    email_field\n",
    "    if email_field:\n",
    "            print(\"📝 Saisie de l'email...\")\n",
    "            email_field.clear()\n",
    "            email_field.send_keys(email)\n",
    "            #(f\"✅ Email saisi: {email}\")\n",
    "            time.sleep(1)\n",
    "\n",
    "    # Screenshot après email\n",
    "    driver.save_screenshot(\"2_apres_email.png\")\n",
    "    print(\"📸 Screenshot 2: 2_apres_email.png\")\n",
    "    # Étape 3: Trouver et remplir le champ password\n",
    "    print(\"🔑 Recherche du champ Password...\")\n",
    "\n",
    "    password_field = None\n",
    "\n",
    "    password_field = driver.find_element(By.XPATH, \"//input[@type='password']\")\n",
    "    print(\"✅ Champ password trouvé par type='password'\")\n",
    "\n",
    "\n",
    "    if password_field:\n",
    "        print(\"📝 Saisie du password...\")\n",
    "        password_field.clear()\n",
    "        password_field.send_keys(password)\n",
    "        print(\"✅ Password saisi\")\n",
    "        time.sleep(1)\n",
    "\n",
    "        # Screenshot après password\n",
    "    driver.save_screenshot(\"3_apres_password.png\")\n",
    "    print(\"📸 Screenshot 3: 3_apres_password.png\")\n",
    "\n",
    "    login_button = None\n",
    "    login_button = driver.find_element(By.XPATH, \"//input[@value='Login']\")\n",
    "\n",
    "    login_button.click()\n",
    "    print(\"✅ Bouton cliqué!\")\n",
    "\n",
    "    # Étape 6: Attendre la redirection et vérifier\n",
    "    print(\"⏳ Attente de la redirection...\")\n",
    "    time.sleep(5)\n",
    "\n",
    "    # Screenshot après connexion\n",
    "    driver.save_screenshot(\"4_apres_clic.png\")\n",
    "    print(\"📸 Screenshot 4: 4_apres_clic.png\")\n",
    "    # Version la plus courte\n",
    "    is_empty = driver.execute_script(\"return document.querySelector('span.basket-badge').textContent;\") == \"0\"\n",
    "    return driver, is_empty\n",
    "    \n"
   ]
  },
  {
   "cell_type": "code",
   "execution_count": 4,
   "id": "783a9318",
   "metadata": {},
   "outputs": [
    {
     "name": "stdout",
     "output_type": "stream",
     "text": [
      "🚀 Script simple - Email + Password + Screenshots\n",
      "==================================================\n",
      "🔑 Password: ****\n",
      "\n",
      "🌐 Connexion au site...\n",
      "📄 Titre: Login - Registration\n",
      "📸 Screenshot 1: 1_avant_saisie.png\n",
      "📝 Saisie de l'email...\n",
      "📸 Screenshot 2: 2_apres_email.png\n",
      "🔑 Recherche du champ Password...\n",
      "✅ Champ password trouvé par type='password'\n",
      "📝 Saisie du password...\n",
      "✅ Password saisi\n",
      "📸 Screenshot 3: 3_apres_password.png\n",
      "✅ Bouton cliqué!\n",
      "⏳ Attente de la redirection...\n",
      "📸 Screenshot 4: 4_apres_clic.png\n"
     ]
    }
   ],
   "source": [
    "driver, is_empty = access_login(WEBSITE_URL, EMAIL, PASSWORD)"
   ]
  },
  {
   "cell_type": "code",
   "execution_count": 5,
   "id": "e8c98202",
   "metadata": {},
   "outputs": [],
   "source": [
    "import time\n",
    "from PIL import Image\n",
    "import io\n",
    "\n",
    "def take_full_page_screenshot(driver, filename):\n",
    "    # Obtenir la taille de la fenêtre\n",
    "    window_size = driver.get_window_size()\n",
    "    \n",
    "    # Obtenir la hauteur totale de la page\n",
    "    total_height = driver.execute_script(\"return document.body.parentNode.scrollHeight\")\n",
    "    \n",
    "    # Redimensionner pour capturer toute la page\n",
    "    driver.set_window_size(window_size['width'], total_height)\n",
    "    \n",
    "    # Attendre que la page se charge complètement\n",
    "    time.sleep(2)\n",
    "    \n",
    "    # Prendre la capture d'écran\n",
    "    driver.save_screenshot(filename)\n",
    "    \n",
    "    # Remettre la taille originale\n",
    "    driver.set_window_size(window_size['width'], window_size['height'])\n",
    "\n"
   ]
  },
  {
   "cell_type": "code",
   "execution_count": 6,
   "id": "c41f34dc",
   "metadata": {},
   "outputs": [],
   "source": [
    "# test "
   ]
  },
  {
   "cell_type": "code",
   "execution_count": null,
   "id": "17c52e63",
   "metadata": {},
   "outputs": [],
   "source": []
  },
  {
   "cell_type": "code",
   "execution_count": 7,
   "id": "8037fd65",
   "metadata": {},
   "outputs": [],
   "source": [
    "def get_planning(driver):\n",
    "    print(f\"\\n🔗 ALLER SUR nouvelle page\")\n",
    "    print(\"=\" * 40)\n",
    "\n",
    "\n",
    "    driver.get(target_url)\n",
    "    time.sleep(3)\n",
    "\n",
    "    print(f\"✅ Page chargée\")\n",
    "    print(f\"📄 Titre: {driver.title}\")\n",
    "\n",
    "    # Screenshot\n",
    "    driver.save_screenshot(\"5_nouvelle_page.png\")\n",
    "    print(\"📸 Screenshot: nouvelle_page.png\")\n"
   ]
  },
  {
   "cell_type": "code",
   "execution_count": null,
   "id": "cea01041",
   "metadata": {},
   "outputs": [],
   "source": [
    "# Modifiez juste ces valeurs :\n",
    "TARGET_DATE = \"24-Jul-25\"  # ← VOTRE DATE ICI\n",
    "COURSE_TYPE = \"Indoor Pickleball Novice\"\n",
    "TARGET_TIME = \"4:15\"\n",
    "target_date =TARGET_DATE\n",
    "target_time = TARGET_TIME\n",
    "target_name = COURSE_TYPE\n"
   ]
  },
  {
   "cell_type": "code",
   "execution_count": 26,
   "id": "c6ed8239",
   "metadata": {},
   "outputs": [
    {
     "name": "stdout",
     "output_type": "stream",
     "text": [
      "Your date: 2025-07-25\n",
      "Today: 2025-07-18\n",
      "Is after today: True\n",
      "Days difference: 6\n",
      "More than 7 days: False\n"
     ]
    }
   ],
   "source": [
    "from datetime import datetime, timedelta\n",
    "\n",
    "def check_date(target_date):\n",
    "\n",
    "    # Parse the date string\n",
    "    your_date = datetime.strptime(target_date, \"%d-%b-%y\")\n",
    "\n",
    "    # Get today's date\n",
    "    today = datetime.now()\n",
    "\n",
    "    # Check if your date is after today\n",
    "    is_after_today = your_date > today\n",
    "\n",
    "    # Calculate the difference in days\n",
    "    difference = your_date - today\n",
    "    days_difference = difference.days\n",
    "\n",
    "    # Check if exactly 7 days difference\n",
    "    next_week = days_difference == 6\n",
    "    more_7_days = days_difference > 6\n",
    "\n",
    "\n",
    "    print(f\"Your date: {your_date.strftime('%Y-%m-%d')}\")\n",
    "    print(f\"Today: {today.strftime('%Y-%m-%d')}\")\n",
    "    print(f\"Is after today: {is_after_today}\")\n",
    "    print(f\"Days difference: {days_difference}\")\n",
    "    print(f\"More than 7 days: {more_7_days}\")\n",
    "    return is_after_today,next_week,more_7_days\n",
    "\n",
    "is_after_today, next_week, more_7_days = check_date(target_date)"
   ]
  },
  {
   "cell_type": "code",
   "execution_count": 28,
   "id": "8aa6d78c",
   "metadata": {},
   "outputs": [
    {
     "data": {
      "text/plain": [
       "True"
      ]
     },
     "execution_count": 28,
     "metadata": {},
     "output_type": "execute_result"
    }
   ],
   "source": [
    "next_week"
   ]
  },
  {
   "cell_type": "code",
   "execution_count": null,
   "id": "4fe543a3",
   "metadata": {},
   "outputs": [],
   "source": []
  },
  {
   "cell_type": "code",
   "execution_count": null,
   "id": "be8b359d",
   "metadata": {},
   "outputs": [],
   "source": []
  },
  {
   "cell_type": "code",
   "execution_count": 29,
   "id": "6071e30d",
   "metadata": {},
   "outputs": [],
   "source": [
    "def look_for_buttons(driver, target_date, target_name, target_time):\n",
    "    print(\"🔍 Recherche de boutons avec données de cours...\")\n",
    "\n",
    "    # Chercher tous les boutons avec data-class-time (structure de votre site)\n",
    "    course_buttons = driver.find_elements(By.XPATH, \"//button[@data-class-time]\")\n",
    "\n",
    "    print(f\"📋 {len(course_buttons)} bouton(s) de cours trouvé(s)\")\n",
    "\n",
    "    found_slots = None\n",
    "\n",
    "    for i, button in enumerate(course_buttons):\n",
    "        \n",
    "            # Extraire les données du bouton\n",
    "            class_name = button.get_attribute('data-class-name') or ''\n",
    "            class_date = button.get_attribute('data-class-date') or ''\n",
    "            class_time = button.get_attribute('data-class-time') or ''\n",
    "            class_spaces = button.get_attribute('data-class-spaces') or '0'\n",
    "            class_location = button.get_attribute('data-class-location') or ''\n",
    "            class_venue = button.get_attribute('data-class-venue') or ''\n",
    "            \n",
    "            #print(f\"\\n  Cours {i+1}:\")\n",
    "            print(f\"    Nom: {class_name}\")\n",
    "            print(f\"    Date: {class_date}\")\n",
    "            print(f\"    Heure: {class_time}\")\n",
    "            #print(f\"    Places: {class_spaces}\")\n",
    "            \n",
    "            # Vérifier si c'est le bon jour ET contient 6:30 PM\n",
    "            date_match = target_date in class_date\n",
    "            name_match = target_name in class_name\n",
    "            time_match = target_time in class_time.split(\"-\")[0] or target_time.lstrip() in class_time.split(\"-\")[0]\n",
    "            \n",
    "\n",
    "            if date_match and time_match and name_match:\n",
    "                print(f\"    ✅ CORRESPONDANCE TROUVÉE!\")\n",
    "                spaces_available = int(class_spaces)\n",
    "                print(spaces_available)\n",
    "                driver.save_screenshot(\"7_find_date_planning.png\")\n",
    "                slot_info = {\n",
    "                            'button': button,\n",
    "                            'class_name': class_name,\n",
    "                            'class_date': class_date,\n",
    "                            'class_time': class_time,\n",
    "                            'class_spaces': spaces_available,\n",
    "                            'class_location': class_location,\n",
    "                            'class_venue': class_venue,\n",
    "                            'available': spaces_available > 0\n",
    "                        }\n",
    "                        \n",
    "                found_slots = slot_info\n",
    "                        \n",
    "                if spaces_available > 0:\n",
    "                    print(f\"    ✅ DISPONIBLE - {spaces_available} place(s)\")\n",
    "                    \n",
    "                else:\n",
    "                    print(f\"    ❌ COMPLET - 0 place\")\n",
    "                break\n",
    "    return found_slots\n",
    "            \n",
    "\n",
    "\n",
    "                \n",
    "        "
   ]
  },
  {
   "cell_type": "code",
   "execution_count": null,
   "id": "5fbdefc4",
   "metadata": {},
   "outputs": [
    {
     "name": "stdout",
     "output_type": "stream",
     "text": [
      "\n",
      "🔗 ALLER SUR nouvelle page\n",
      "========================================\n",
      "✅ Page chargée\n",
      "📄 Titre: Pre-Booked Open & Private Pickleball/Tennis - Registration\n",
      "📸 Screenshot: nouvelle_page.png\n",
      "🔍 Recherche de boutons avec données de cours...\n",
      "📋 42 bouton(s) de cours trouvé(s)\n",
      "    Nom: Indoor Pickleball Novice\n",
      "    Date: Sat, 26-Jul-25\n",
      "    Heure: 8:30 AM - 10:30 AM\n",
      "    Nom: Indoor Pickleball Intermediate\n",
      "    Date: Sat, 26-Jul-25\n",
      "    Heure: 8:30 AM - 10:30 AM\n",
      "    Nom: Indoor Pickleball Novice\n",
      "    Date: Sun, 27-Jul-25\n",
      "    Heure: 8:30 AM - 10:30 AM\n",
      "    Nom: Indoor Pickleball Intermediate\n",
      "    Date: Sun, 27-Jul-25\n",
      "    Heure: 8:30 AM - 10:30 AM\n",
      "    Nom: Indoor Pickleball Intermediate\n",
      "    Date: Sat, 26-Jul-25\n",
      "    Heure: 10:30 AM - 12:30 PM\n",
      "    Nom: Indoor Pickleball  Advanced\n",
      "    Date: Sat, 26-Jul-25\n",
      "    Heure: 10:30 AM - 12:30 PM\n",
      "    Nom: Indoor Pickleball Intermediate\n",
      "    Date: Sun, 27-Jul-25\n",
      "    Heure: 10:30 AM - 12:30 PM\n",
      "    Nom: Indoor Pickleball  Advanced\n",
      "    Date: Sun, 27-Jul-25\n",
      "    Heure: 10:30 AM - 12:30 PM\n",
      "    Nom: Outdoor 2 Hour Tennis Drop In\n",
      "    Date: Sun, 27-Jul-25\n",
      "    Heure: 10:30 AM - 12:30 PM\n",
      "    Nom: Outdoor 2 Hour Tennis Drop In\n",
      "    Date: Sat, 26-Jul-25\n",
      "    Heure: 11:00 AM - 1:00 PM\n",
      "    Nom: Outdoor Pickleball  Intermediate\n",
      "    Date: Fri, 25-Jul-25\n",
      "    Heure: 12:30 PM - 2:30 PM\n",
      "    Nom: Private Pickleball Court Booking\n",
      "    Date: Sat, 26-Jul-25\n",
      "    Heure: 12:30 PM - 2:30 PM\n",
      "    Nom: Indoor Pickleball  Advanced\n",
      "    Date: Sat, 26-Jul-25\n",
      "    Heure: 12:30 PM - 2:30 PM\n",
      "    Nom: Private Pickleball Court Booking\n",
      "    Date: Sun, 27-Jul-25\n",
      "    Heure: 12:30 PM - 2:30 PM\n",
      "    Nom: Indoor Pickleball  Advanced\n",
      "    Date: Sun, 27-Jul-25\n",
      "    Heure: 12:30 PM - 2:30 PM\n",
      "    Nom: Outdoor Pickleball  Intermediate\n",
      "    Date: Mon, 28-Jul-25\n",
      "    Heure: 12:30 PM - 2:30 PM\n",
      "    Nom: Outdoor Pickleball  Intermediate\n",
      "    Date: Tue, 29-Jul-25\n",
      "    Heure: 12:30 PM - 2:30 PM\n",
      "    Nom: Outdoor Pickleball  Intermediate\n",
      "    Date: Wed, 30-Jul-25\n",
      "    Heure: 12:30 PM - 2:30 PM\n",
      "    Nom: Outdoor Pickleball  Intermediate\n",
      "    Date: Thu, 31-Jul-25\n",
      "    Heure: 12:30 PM - 2:30 PM\n",
      "    Nom: Outdoor Pickleball  Intermediate\n",
      "    Date: Sat, 26-Jul-25\n",
      "    Heure: 1:00 PM - 3:00 PM\n",
      "    Nom: Outdoor Pickleball Novice\n",
      "    Date: Sat, 26-Jul-25\n",
      "    Heure: 1:00 PM - 3:00 PM\n",
      "    Nom: Outdoor Pickleball Advanced \n",
      "    Date: Sun, 27-Jul-25\n",
      "    Heure: 2:30 PM - 4:30 PM\n",
      "    Nom: Outdoor Pickleball  Intermediate\n",
      "    Date: Sun, 27-Jul-25\n",
      "    Heure: 2:30 PM - 4:30 PM\n",
      "    Nom: Outdoor Pickleball Advanced \n",
      "    Date: Fri, 25-Jul-25\n",
      "    Heure: 4:00 PM - 6:00 PM\n",
      "    Nom: 90 Min Pickelball Advanced\n",
      "    Date: Fri, 25-Jul-25\n",
      "    Heure: 4:15 PM - 5:45 PM\n",
      "    Nom: 90 Min Pickleball Intermediate\n",
      "    Date: Fri, 25-Jul-25\n",
      "    Heure: 4:15 PM - 5:45 PM\n",
      "    Nom: Indoor Pickleball  Advanced\n",
      "    Date: Mon, 28-Jul-25\n",
      "    Heure: 4:30 PM - 6:30 PM\n",
      "    Nom: Indoor Pickleball Intermediate\n",
      "    Date: Mon, 28-Jul-25\n",
      "    Heure: 4:30 PM - 6:30 PM\n",
      "    Nom: Indoor Pickleball  Advanced\n",
      "    Date: Tue, 29-Jul-25\n",
      "    Heure: 4:30 PM - 6:30 PM\n",
      "    Nom: Indoor Pickleball Intermediate\n",
      "    Date: Tue, 29-Jul-25\n",
      "    Heure: 4:30 PM - 6:30 PM\n",
      "    Nom: Indoor Pickleball Intermediate\n",
      "    Date: Wed, 30-Jul-25\n",
      "    Heure: 4:30 PM - 6:30 PM\n",
      "    Nom: Indoor Pickleball  Advanced\n",
      "    Date: Wed, 30-Jul-25\n",
      "    Heure: 4:30 PM - 6:30 PM\n",
      "    Nom: Indoor Pickleball  Advanced\n",
      "    Date: Thu, 31-Jul-25\n",
      "    Heure: 4:30 PM - 6:30 PM\n",
      "    Nom: Indoor Pickleball Novice\n",
      "    Date: Thu, 31-Jul-25\n",
      "    Heure: 4:30 PM - 6:30 PM\n",
      "    Nom: Indoor Pickleball Intermediate\n",
      "    Date: Mon, 28-Jul-25\n",
      "    Heure: 6:30 PM - 8:30 PM\n",
      "    Nom: Indoor Pickleball Novice\n",
      "    Date: Mon, 28-Jul-25\n",
      "    Heure: 6:30 PM - 8:30 PM\n",
      "    Nom: Indoor Pickleball  Advanced\n",
      "    Date: Tue, 29-Jul-25\n",
      "    Heure: 6:30 PM - 8:30 PM\n",
      "    Nom: Indoor Pickleball Novice\n",
      "    Date: Tue, 29-Jul-25\n",
      "    Heure: 6:30 PM - 8:30 PM\n",
      "    Nom: Indoor Pickleball  Advanced\n",
      "    Date: Wed, 30-Jul-25\n",
      "    Heure: 6:30 PM - 8:30 PM\n",
      "    Nom: Indoor Pickleball Intermediate\n",
      "    Date: Wed, 30-Jul-25\n",
      "    Heure: 6:30 PM - 8:30 PM\n",
      "    Nom: Indoor Pickleball  Advanced\n",
      "    Date: Thu, 31-Jul-25\n",
      "    Heure: 6:30 PM - 8:30 PM\n",
      "    Nom: Indoor Pickleball Intermediate\n",
      "    Date: Thu, 31-Jul-25\n",
      "    Heure: 6:30 PM - 8:30 PM\n"
     ]
    }
   ],
   "source": [
    "if is_empty:\n",
    "    get_planning(driver)\n",
    "    if is_after_today:\n",
    "        if next_week:\n",
    "            next_week_btn = driver.find_element(By.XPATH, \"//input[@value='Next Week']\")\n",
    "            next_week_btn.click()\n",
    "            time.sleep(3)  # Attendre le chargement\n",
    "    driver.save_screenshot(\"5b_nouvelle_page.png\")\n",
    "    slot_available = look_for_buttons(driver,target_date,target_name,target_time)\n",
    "\n",
    "    # click book\n",
    "    # click sandrine\n",
    "    #click book"
   ]
  },
  {
   "cell_type": "code",
   "execution_count": 34,
   "id": "4622f98d",
   "metadata": {},
   "outputs": [],
   "source": [
    "slot_info"
   ]
  },
  {
   "cell_type": "code",
   "execution_count": 12,
   "id": "a984f3c0",
   "metadata": {},
   "outputs": [
    {
     "name": "stdout",
     "output_type": "stream",
     "text": [
      "\n",
      "🔗 ALLER SUR nouvelle page\n",
      "========================================\n",
      "✅ Page chargée\n",
      "📄 Titre: Pre-Booked Open & Private Pickleball/Tennis - Registration\n",
      "📸 Screenshot: nouvelle_page.png\n",
      "🔍 Recherche de boutons avec données de cours...\n",
      "📋 42 bouton(s) de cours trouvé(s)\n",
      "    Nom: Indoor Pickleball Novice\n",
      "    Date: Sat, 26-Jul-25\n",
      "    Heure: 8:30 AM - 10:30 AM\n",
      "    ✅ CORRESPONDANCE TROUVÉE!\n",
      "5\n",
      "    ✅ DISPONIBLE - 5 place(s)\n"
     ]
    }
   ],
   "source": [
    "if is_empty:\n",
    "    get_planning(driver)\n",
    "    if is_after_today:\n",
    "        if more_than_7_days:\n",
    "            next_week_btn = driver.find_element(By.XPATH, \"//input[@value='Next Week']\")\n",
    "            next_week_btn.click()\n",
    "            time.sleep(3)  # Attendre le chargement\n",
    "    driver.save_screenshot(\"5b_nouvelle_page.png\")\n",
    "    slot_info = look_for_buttons(driver,target_date,target_name,target_time)\n",
    "    if slot_info:\n",
    "        info_button = slot_info[0]['button']\n",
    "\n",
    "        # Chercher dans le même conteneur parent\n",
    "        parent = info_button.find_element(By.XPATH, \"./..\")\n",
    "        # Chercher un bouton \"Book Now\" dans ce conteneur\n",
    "        book_buttons = parent.find_elements(By.XPATH, \".//*[contains(text(), 'Book Now') or contains(text(), 'Book')]\")\n",
    "\n",
    "        if book_buttons:\n",
    "            print(f\"✅ Bouton 'Book Now' trouvé dans le même conteneur\")\n",
    "            book_buttons[0].click()\n",
    "            driver.save_screenshot(\"6_book_slot.png\")\n",
    "\n",
    "   \n",
    "\n",
    "\n",
    "\n",
    "\n",
    "    # check that we have date\n",
    "    # check date and time\n",
    "    # check date and time and course and space\n",
    "    # click book\n",
    "    # click sandrine\n",
    "    #click book"
   ]
  },
  {
   "cell_type": "code",
   "execution_count": 14,
   "id": "64e2dc7c",
   "metadata": {},
   "outputs": [
    {
     "data": {
      "text/plain": [
       "[]"
      ]
     },
     "execution_count": 14,
     "metadata": {},
     "output_type": "execute_result"
    }
   ],
   "source": [
    "slot_info\n",
    "book_buttons"
   ]
  },
  {
   "cell_type": "code",
   "execution_count": 29,
   "id": "3cc0775e",
   "metadata": {},
   "outputs": [
    {
     "name": "stdout",
     "output_type": "stream",
     "text": [
      "✅ Bouton 'Book Now' trouvé dans le même conteneur\n"
     ]
    }
   ],
   "source": [
    "# Chercher un bouton \"Book Now\" dans ce conteneur\n",
    "book_buttons = parent.find_elements(By.XPATH, \".//*[contains(text(), 'Book Now') or contains(text(), 'Book')]\")\n",
    "\n",
    "if book_buttons:\n",
    "    print(f\"✅ Bouton 'Book Now' trouvé dans le même conteneur\")\n",
    "    book_buttons[0].click()\n",
    "   "
   ]
  },
  {
   "cell_type": "code",
   "execution_count": 30,
   "id": "5a534322",
   "metadata": {},
   "outputs": [
    {
     "name": "stdout",
     "output_type": "stream",
     "text": [
      "📸 Screenshot: apres_reservation_630_22_Jul_25.png\n"
     ]
    }
   ],
   "source": [
    "time.sleep(3)\n",
    "\n",
    "# Screenshot après clic\n",
    "driver.save_screenshot(f\"8_book_slot_{target_date.replace('-', '_')}.png\")\n",
    "print(f\"📸 Screenshot: apres_reservation_630_{target_date.replace('-', '_')}.png\")"
   ]
  },
  {
   "cell_type": "code",
   "execution_count": 31,
   "id": "5aec7676",
   "metadata": {},
   "outputs": [
    {
     "name": "stdout",
     "output_type": "stream",
     "text": [
      "✅ 2 élément(s) 'Sandrine' trouvé(s)\n"
     ]
    }
   ],
   "source": [
    "\n",
    "# Chercher des éléments avec \"Sandrine\"\n",
    "sandrine_elements = driver.find_elements(By.XPATH, \"//*[contains(text(), 'Sandrine Lebon')]\")\n",
    "\n",
    "\n",
    "if sandrine_elements:\n",
    "    print(f\"✅ {len(sandrine_elements)} élément(s) 'Sandrine' trouvé(s)\")\n",
    "    "
   ]
  },
  {
   "cell_type": "code",
   "execution_count": 51,
   "id": "521ab0d0",
   "metadata": {},
   "outputs": [
    {
     "data": {
      "text/plain": [
       "[<selenium.webdriver.remote.webelement.WebElement (session=\"ad9c3da11c47959d44a71b6ad1412117\", element=\"f.262417F619D8489EFAC368D375B7B398.d.015923AE86192A875233F3867C231706.e.121\")>,\n",
       " <selenium.webdriver.remote.webelement.WebElement (session=\"ad9c3da11c47959d44a71b6ad1412117\", element=\"f.262417F619D8489EFAC368D375B7B398.d.015923AE86192A875233F3867C231706.e.122\")>]"
      ]
     },
     "execution_count": 51,
     "metadata": {},
     "output_type": "execute_result"
    }
   ],
   "source": [
    "sandrine_elements"
   ]
  },
  {
   "cell_type": "code",
   "execution_count": 32,
   "id": "65a8a526",
   "metadata": {},
   "outputs": [
    {
     "name": "stdout",
     "output_type": "stream",
     "text": [
      "✅ Bouton trouvé près de Sandrine: 'Book Now'\n",
      "🖱️ Clic pour réserver pour Sandrine...\n",
      "✅ Réservation Sandrine cliquée!\n",
      "📸 Screenshot final: reservation_sandrine_intermediate_630_22_Jul_25.png\n"
     ]
    }
   ],
   "source": [
    "\n",
    "# Chercher un bouton près de Sandrine\n",
    "for i, sandrine_element in enumerate(sandrine_elements):\n",
    "\n",
    "        # Chercher dans le conteneur parent\n",
    "    parent = sandrine_element.find_element(By.XPATH, \"./..\")\n",
    "        \n",
    "        # Chercher des boutons de réservation\n",
    "    sandrine_buttons = parent.find_elements(By.XPATH, \".//*[contains(text(), 'Book') or contains(text(), 'Réserver') or contains(text(), 'Select') or contains(text(), 'Choose')]\")\n",
    "        \n",
    "    if sandrine_buttons:\n",
    "        sandrine_button = sandrine_buttons[0]\n",
    "            \n",
    "        print(f\"✅ Bouton trouvé près de Sandrine: '{sandrine_button.text.strip()}'\")\n",
    "        print(f\"🖱️ Clic pour réserver pour Sandrine...\")\n",
    "\n",
    "        sandrine_button.click()\n",
    "                        \n",
    "        print(\"✅ Réservation Sandrine cliquée!\")\n",
    "        time.sleep(3)\n",
    "                        \n",
    "                        # Screenshot final\n",
    "        driver.save_screenshot(f\"9_before_basket_{target_date.replace('-', '_')}.png\")\n",
    "        print(f\"📸 Screenshot final: reservation_sandrine_intermediate_630_{target_date.replace('-', '_')}.png\")\n",
    "            "
   ]
  },
  {
   "cell_type": "code",
   "execution_count": 54,
   "id": "4c4d7dba",
   "metadata": {},
   "outputs": [
    {
     "data": {
      "text/plain": [
       "[<selenium.webdriver.remote.webelement.WebElement (session=\"ad9c3da11c47959d44a71b6ad1412117\", element=\"f.262417F619D8489EFAC368D375B7B398.d.0BF5BDD3138026C5AB703C343270AE16.e.141\")>]"
      ]
     },
     "execution_count": 54,
     "metadata": {},
     "output_type": "execute_result"
    }
   ],
   "source": [
    "basket"
   ]
  },
  {
   "cell_type": "code",
   "execution_count": 33,
   "id": "45fa9a7c",
   "metadata": {},
   "outputs": [
    {
     "name": "stdout",
     "output_type": "stream",
     "text": [
      "work\n"
     ]
    }
   ],
   "source": [
    "basket = driver.find_elements(By.XPATH, \"//*[contains(text(), 'Checkout')]\")\n",
    "if basket:\n",
    "    print(\"work\")\n",
    "    basket[0].click()\n",
    "    time.sleep(3)\n",
    "    driver.save_screenshot(f\"10_after_basket_{target_date.replace('-', '_')}.png\")\n"
   ]
  },
  {
   "cell_type": "code",
   "execution_count": null,
   "id": "70218c14",
   "metadata": {},
   "outputs": [],
   "source": []
  },
  {
   "cell_type": "code",
   "execution_count": 34,
   "id": "617cb3d8",
   "metadata": {},
   "outputs": [],
   "source": [
    "driver.quit()"
   ]
  }
 ],
 "metadata": {
  "kernelspec": {
   "display_name": "Python 3",
   "language": "python",
   "name": "python3"
  },
  "language_info": {
   "codemirror_mode": {
    "name": "ipython",
    "version": 3
   },
   "file_extension": ".py",
   "mimetype": "text/x-python",
   "name": "python",
   "nbconvert_exporter": "python",
   "pygments_lexer": "ipython3",
   "version": "3.12.1"
  }
 },
 "nbformat": 4,
 "nbformat_minor": 5
}
