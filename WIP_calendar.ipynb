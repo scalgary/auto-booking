{
 "cells": [
  {
   "cell_type": "markdown",
   "id": "ba0a5958",
   "metadata": {},
   "source": [
    "### connection with calendar\n",
    "### look up 1 week from now get all the events with paddle\n",
    "### delete all events with paddle\n",
    "### parse data from appointments json\n",
    "### create corresponding event"
   ]
  },
  {
   "cell_type": "markdown",
   "id": "1da4a7a9",
   "metadata": {},
   "source": [
    "# Connection with calendar --> my_calendar\n",
    "#appointments.json ne contient pas l'annee\n",
    "il va faloir dire 2025 par defaut"
   ]
  },
  {
   "cell_type": "code",
   "execution_count": 1,
   "id": "ace6adfc",
   "metadata": {},
   "outputs": [],
   "source": [
    "\n",
    "# iCloud credentials\n",
    "from dotenv import load_dotenv\n",
    "import os\n",
    "from datetime import datetime, date, timedelta\n",
    "from caldav import DAVClient\n",
    "import uuid\n",
    "import os\n",
    "import pytz\n",
    "import icalendar\n",
    "\n",
    "# iCloud credentials\n",
    "\n",
    "CALDAV_USER = os.getenv(\"CALDAV_USER\")\n",
    "CALDAV_PASSWORD = os.getenv(\"CALDAV_PASSWORD\")  # Generate at appleid.apple.com\n",
    "CALDAV_URL = 'https://caldav.icloud.com'"
   ]
  },
  {
   "cell_type": "code",
   "execution_count": null,
   "id": "778f4891",
   "metadata": {},
   "outputs": [],
   "source": [
    "# iCloud credentials\n",
    "from dotenv import load_dotenv\n",
    "import os\n",
    "from datetime import datetime, date, timedelta\n",
    "from caldav import DAVClient\n",
    "import uuid\n",
    "import os\n",
    "import pytz\n",
    "import icalendar\n",
    "\n",
    "# iCloud credentials\n",
    "\n",
    "CALDAV_USER = os.getenv(\"CALDAV_USER\")\n",
    "CALDAV_PASSWORD = os.getenv(\"CALDAV_PASSWORD\")  # Generate at appleid.apple.com\n",
    "CALDAV_URL = 'https://caldav.icloud.com'\n",
    "\n",
    "def get_calendar(caldav_url,caldav_username,caldav_password, calendar_name):\n",
    "    # link calendar\n",
    "    client = DAVClient(url=caldav_url,username=caldav_username, password=caldav_password)\n",
    "    calendar = client.principal().calendar(name=calendar_name)\n",
    "    return calendar\n",
    " \n",
    "\n",
    "def find_pickleball_events(calendar,start_date = None, search_list = ['🏓', '🎾' ]):\n",
    "    if start_date is None:\n",
    "        start_date = datetime.now() +timedelta(days=1)\n",
    "    end_date = start_date + timedelta(days=7)\n",
    "    events = calendar.search(start=start_date, end=end_date)\n",
    "    pickleball_events = []\n",
    "\n",
    "    for event in events:\n",
    "       cal = icalendar.Calendar.from_ical(event.data)  # Parse les bytes vers objet Calendar\n",
    "       for component in cal.walk():\n",
    "           if component.name == \"VEVENT\":\n",
    "               summary = str(component.get('SUMMARY', ''))\n",
    "           # Vérifier si l'emoji tennis est présent\n",
    "               for search_character in search_list:\n",
    "                   if search_character in summary:\n",
    "                       pickleball_events.append({\n",
    "                        'summary': summary,\n",
    "                        'start': component.get('dtstart').dt,\n",
    "                        'end': component.get('dtend').dt,\n",
    "                        'uid': str(component.get('uid'))\n",
    "                    })\n",
    "    \n",
    "    return pickleball_events\n",
    "\n",
    "\n",
    "def delete_events(calendar,list_events):\n",
    "    uids_to_delete = [event['uid'] for event in list_events]\n",
    "    for uid in uids_to_delete:\n",
    "        try:\n",
    "            event = calendar.event_by_uid(uid)\n",
    "            event.delete()\n",
    "        except:\n",
    "            print(f\"failed to delete:{uid}\")\n",
    "\n",
    "\n",
    "\n",
    "def parsed_events_from_appointments_json(year=2025, remove_today= True):\n",
    "    import json\n",
    "    \n",
    "    with open(\"appointments.json\", 'r') as f:\n",
    "        events_data = json.load(f)\n",
    "\n",
    "    parsed_events = []\n",
    "    for item in events_data:\n",
    "    # Parse date (format: \"Wed\\n22\\nOct\")\n",
    "        date_parts = item['date'].split('\\n')\n",
    "        day = int(date_parts[1])\n",
    "        month_str = date_parts[2]\n",
    "        \n",
    "        # Convert month name to number\n",
    "        months = {'Jan': 1, 'Feb': 2, 'Mar': 3, 'Apr': 4, 'May': 5, 'Jun': 6,\n",
    "                    'Jul': 7, 'Aug': 8, 'Sep': 9, 'Oct': 10, 'Nov': 11, 'Dec': 12}\n",
    "        month = months[month_str]\n",
    "        time_parts = item['time'].replace('\\n',' ').split(' - ')\n",
    "        start = datetime.strptime(f\"{year}-{month:02d}-{day:02d} {time_parts[0]}\", \n",
    "                                    \"%Y-%m-%d %I:%M %p\")\n",
    "\n",
    "        end = datetime.strptime(f\"{year}-{month:02d}-{day:02d} {time_parts[1]}\", \n",
    "                                \"%Y-%m-%d %I:%M %p\")\n",
    "        parsed_events.append({\n",
    "                'start': start,\n",
    "                'end': end,\n",
    "                'summary': '🏓 registration Pickleball'\n",
    "            })\n",
    "    if remove_today:\n",
    "        today = date.today()\n",
    "        future_events = [e for e in parsed_events if e['start'].date() > today]\n",
    "        return future_events\n",
    "    else:\n",
    "        return parsed_events\n",
    "\n",
    "\n",
    "\n",
    "\n",
    "def create_events(calendar, list_events):\n",
    "    from icalendar import Calendar, Event\n",
    "\n",
    "    # Add each event\n",
    "    for event_data in list_events:\n",
    "        cal = Calendar()\n",
    "        event = Event()\n",
    "        \n",
    "        event.add('summary', event_data['summary'])\n",
    "        event.add('dtstart', event_data['start'])\n",
    "        event.add('dtend', event_data['end'])\n",
    "        event.add('uid', f\"pickleball-{event_data['start'].strftime('%Y%m%d-%H%M')}\")\n",
    "        \n",
    "        cal.add_component(event)\n",
    "        calendar.save_event(cal.to_ical())\n",
    "        \n",
    "        print(f\"Added: {event_data['start'].strftime('%b %d %I:%M %p')}\")\n",
    "\n",
    "\n",
    "\n",
    "\n",
    "def main():\n",
    "    #get calendar\n",
    "    calendar = get_calendar(CALDAV_URL, CALDAV_USER, CALDAV_PASSWORD, \"Family\")\n",
    "    # clean up\n",
    "    list_events_to_delete = find_pickleball_events(calendar)\n",
    "    delete_events(calendar, list_events_to_delete)\n",
    "    list_events_to_add = parsed_events_from_appointments_json()\n",
    "    create_events(calendar,list_events_to_add)\n",
    "    "
   ]
  },
  {
   "cell_type": "code",
   "execution_count": null,
   "id": "3819c6d1",
   "metadata": {},
   "outputs": [],
   "source": []
  },
  {
   "cell_type": "code",
   "execution_count": 21,
   "id": "c133ff00",
   "metadata": {},
   "outputs": [
    {
     "name": "stdout",
     "output_type": "stream",
     "text": [
      "Added: Oct 24 02:45 PM\n",
      "Added: Oct 25 08:30 AM\n",
      "Added: Oct 27 02:30 PM\n"
     ]
    }
   ],
   "source": [
    "main()"
   ]
  },
  {
   "cell_type": "code",
   "execution_count": null,
   "id": "b41d07cc",
   "metadata": {},
   "outputs": [],
   "source": []
  },
  {
   "cell_type": "code",
   "execution_count": 37,
   "id": "f31731fd",
   "metadata": {},
   "outputs": [
    {
     "data": {
      "text/plain": [
       "datetime.datetime(2025, 10, 27, 16, 30)"
      ]
     },
     "execution_count": 37,
     "metadata": {},
     "output_type": "execute_result"
    }
   ],
   "source": [
    "start = datetime.strptime(f\"{year}-{month:02d}-{day:02d} {time_parts[0]}\", \n",
    "                                 \"%Y-%m-%d %I:%M %p\")\n",
    "start\n",
    "\n",
    "end = datetime.strptime(f\"{year}-{month:02d}-{day:02d} {time_parts[1]}\", \n",
    "                               \"%Y-%m-%d %I:%M %p\")\n",
    "end\n"
   ]
  },
  {
   "cell_type": "code",
   "execution_count": null,
   "id": "cfd63b22",
   "metadata": {},
   "outputs": [
    {
     "ename": "ValueError",
     "evalue": "unconverted data remains:  -2:30 PM",
     "output_type": "error",
     "traceback": [
      "\u001b[31m---------------------------------------------------------------------------\u001b[39m",
      "\u001b[31mValueError\u001b[39m                                Traceback (most recent call last)",
      "\u001b[36mCell\u001b[39m\u001b[36m \u001b[39m\u001b[32mIn[18]\u001b[39m\u001b[32m, line 42\u001b[39m\n\u001b[32m     39\u001b[39m     \u001b[38;5;28;01mreturn\u001b[39;00m parsed_events\n\u001b[32m     41\u001b[39m \u001b[38;5;66;03m# Usage\u001b[39;00m\n\u001b[32m---> \u001b[39m\u001b[32m42\u001b[39m events = \u001b[43mparse_events_json\u001b[49m\u001b[43m(\u001b[49m\u001b[33;43m'\u001b[39;49m\u001b[33;43mappointments.json\u001b[39;49m\u001b[33;43m'\u001b[39;49m\u001b[43m)\u001b[49m\n\u001b[32m     43\u001b[39m \u001b[38;5;28;01mfor\u001b[39;00m event \u001b[38;5;129;01min\u001b[39;00m events:\n\u001b[32m     44\u001b[39m     \u001b[38;5;28mprint\u001b[39m(\u001b[33mf\u001b[39m\u001b[33m\"\u001b[39m\u001b[38;5;132;01m{\u001b[39;00mevent[\u001b[33m'\u001b[39m\u001b[33mstart\u001b[39m\u001b[33m'\u001b[39m].strftime(\u001b[33m'\u001b[39m\u001b[33m%\u001b[39m\u001b[33mB \u001b[39m\u001b[38;5;132;01m%d\u001b[39;00m\u001b[33m, \u001b[39m\u001b[33m%\u001b[39m\u001b[33mY \u001b[39m\u001b[33m%\u001b[39m\u001b[33mI:\u001b[39m\u001b[33m%\u001b[39m\u001b[33mM \u001b[39m\u001b[33m%\u001b[39m\u001b[33mp\u001b[39m\u001b[33m'\u001b[39m)\u001b[38;5;132;01m}\u001b[39;00m\u001b[33m - \u001b[39m\u001b[38;5;132;01m{\u001b[39;00mevent[\u001b[33m'\u001b[39m\u001b[33mend\u001b[39m\u001b[33m'\u001b[39m].strftime(\u001b[33m'\u001b[39m\u001b[33m%\u001b[39m\u001b[33mI:\u001b[39m\u001b[33m%\u001b[39m\u001b[33mM \u001b[39m\u001b[33m%\u001b[39m\u001b[33mp\u001b[39m\u001b[33m'\u001b[39m)\u001b[38;5;132;01m}\u001b[39;00m\u001b[33m\"\u001b[39m)\n",
      "\u001b[36mCell\u001b[39m\u001b[36m \u001b[39m\u001b[32mIn[18]\u001b[39m\u001b[32m, line 28\u001b[39m, in \u001b[36mparse_events_json\u001b[39m\u001b[34m(json_file, year)\u001b[39m\n\u001b[32m     25\u001b[39m time_parts = item[\u001b[33m'\u001b[39m\u001b[33mtime\u001b[39m\u001b[33m'\u001b[39m].replace(\u001b[33m'\u001b[39m\u001b[38;5;130;01m\\n\u001b[39;00m\u001b[33m'\u001b[39m, \u001b[33m'\u001b[39m\u001b[33m'\u001b[39m).split(\u001b[33m'\u001b[39m\u001b[33m - \u001b[39m\u001b[33m'\u001b[39m)\n\u001b[32m     27\u001b[39m \u001b[38;5;66;03m# Create datetime objects\u001b[39;00m\n\u001b[32m---> \u001b[39m\u001b[32m28\u001b[39m start = \u001b[43mdatetime\u001b[49m\u001b[43m.\u001b[49m\u001b[43mstrptime\u001b[49m\u001b[43m(\u001b[49m\u001b[33;43mf\u001b[39;49m\u001b[33;43m\"\u001b[39;49m\u001b[38;5;132;43;01m{\u001b[39;49;00m\u001b[43myear\u001b[49m\u001b[38;5;132;43;01m}\u001b[39;49;00m\u001b[33;43m-\u001b[39;49m\u001b[38;5;132;43;01m{\u001b[39;49;00m\u001b[43mmonth\u001b[49m\u001b[38;5;132;43;01m:\u001b[39;49;00m\u001b[33;43m02d\u001b[39;49m\u001b[38;5;132;43;01m}\u001b[39;49;00m\u001b[33;43m-\u001b[39;49m\u001b[38;5;132;43;01m{\u001b[39;49;00m\u001b[43mday\u001b[49m\u001b[38;5;132;43;01m:\u001b[39;49;00m\u001b[33;43m02d\u001b[39;49m\u001b[38;5;132;43;01m}\u001b[39;49;00m\u001b[33;43m \u001b[39;49m\u001b[38;5;132;43;01m{\u001b[39;49;00m\u001b[43mtime_parts\u001b[49m\u001b[43m[\u001b[49m\u001b[32;43m0\u001b[39;49m\u001b[43m]\u001b[49m\u001b[38;5;132;43;01m}\u001b[39;49;00m\u001b[33;43m\"\u001b[39;49m\u001b[43m,\u001b[49m\u001b[43m \u001b[49m\n\u001b[32m     29\u001b[39m \u001b[43m                         \u001b[49m\u001b[33;43m\"\u001b[39;49m\u001b[33;43m%\u001b[39;49m\u001b[33;43mY-\u001b[39;49m\u001b[33;43m%\u001b[39;49m\u001b[33;43mm-\u001b[39;49m\u001b[38;5;132;43;01m%d\u001b[39;49;00m\u001b[33;43m \u001b[39;49m\u001b[33;43m%\u001b[39;49m\u001b[33;43mI:\u001b[39;49m\u001b[33;43m%\u001b[39;49m\u001b[33;43mM \u001b[39;49m\u001b[33;43m%\u001b[39;49m\u001b[33;43mp\u001b[39;49m\u001b[33;43m\"\u001b[39;49m\u001b[43m)\u001b[49m\n\u001b[32m     30\u001b[39m end = datetime.strptime(\u001b[33mf\u001b[39m\u001b[33m\"\u001b[39m\u001b[38;5;132;01m{\u001b[39;00myear\u001b[38;5;132;01m}\u001b[39;00m\u001b[33m-\u001b[39m\u001b[38;5;132;01m{\u001b[39;00mmonth\u001b[38;5;132;01m:\u001b[39;00m\u001b[33m02d\u001b[39m\u001b[38;5;132;01m}\u001b[39;00m\u001b[33m-\u001b[39m\u001b[38;5;132;01m{\u001b[39;00mday\u001b[38;5;132;01m:\u001b[39;00m\u001b[33m02d\u001b[39m\u001b[38;5;132;01m}\u001b[39;00m\u001b[33m \u001b[39m\u001b[38;5;132;01m{\u001b[39;00mtime_parts[\u001b[32m1\u001b[39m]\u001b[38;5;132;01m}\u001b[39;00m\u001b[33m\"\u001b[39m, \n\u001b[32m     31\u001b[39m                        \u001b[33m\"\u001b[39m\u001b[33m%\u001b[39m\u001b[33mY-\u001b[39m\u001b[33m%\u001b[39m\u001b[33mm-\u001b[39m\u001b[38;5;132;01m%d\u001b[39;00m\u001b[33m \u001b[39m\u001b[33m%\u001b[39m\u001b[33mI:\u001b[39m\u001b[33m%\u001b[39m\u001b[33mM \u001b[39m\u001b[33m%\u001b[39m\u001b[33mp\u001b[39m\u001b[33m\"\u001b[39m)\n\u001b[32m     33\u001b[39m parsed_events.append({\n\u001b[32m     34\u001b[39m     \u001b[33m'\u001b[39m\u001b[33mstart\u001b[39m\u001b[33m'\u001b[39m: start,\n\u001b[32m     35\u001b[39m     \u001b[33m'\u001b[39m\u001b[33mend\u001b[39m\u001b[33m'\u001b[39m: end,\n\u001b[32m     36\u001b[39m     \u001b[33m'\u001b[39m\u001b[33msummary\u001b[39m\u001b[33m'\u001b[39m: \u001b[33m'\u001b[39m\u001b[33m🏓 registration Pickleball\u001b[39m\u001b[33m'\u001b[39m\n\u001b[32m     37\u001b[39m })\n",
      "\u001b[36mFile \u001b[39m\u001b[32m/usr/local/lib/python3.11/_strptime.py:567\u001b[39m, in \u001b[36m_strptime_datetime\u001b[39m\u001b[34m(cls, data_string, format)\u001b[39m\n\u001b[32m    564\u001b[39m \u001b[38;5;28;01mdef\u001b[39;00m\u001b[38;5;250m \u001b[39m\u001b[34m_strptime_datetime\u001b[39m(\u001b[38;5;28mcls\u001b[39m, data_string, \u001b[38;5;28mformat\u001b[39m=\u001b[33m\"\u001b[39m\u001b[38;5;132;01m%a\u001b[39;00m\u001b[33m \u001b[39m\u001b[33m%\u001b[39m\u001b[33mb \u001b[39m\u001b[38;5;132;01m%d\u001b[39;00m\u001b[33m \u001b[39m\u001b[33m%\u001b[39m\u001b[33mH:\u001b[39m\u001b[33m%\u001b[39m\u001b[33mM:\u001b[39m\u001b[33m%\u001b[39m\u001b[33mS \u001b[39m\u001b[33m%\u001b[39m\u001b[33mY\u001b[39m\u001b[33m\"\u001b[39m):\n\u001b[32m    565\u001b[39m \u001b[38;5;250m    \u001b[39m\u001b[33;03m\"\"\"Return a class cls instance based on the input string and the\u001b[39;00m\n\u001b[32m    566\u001b[39m \u001b[33;03m    format string.\"\"\"\u001b[39;00m\n\u001b[32m--> \u001b[39m\u001b[32m567\u001b[39m     tt, fraction, gmtoff_fraction = \u001b[43m_strptime\u001b[49m\u001b[43m(\u001b[49m\u001b[43mdata_string\u001b[49m\u001b[43m,\u001b[49m\u001b[43m \u001b[49m\u001b[38;5;28;43mformat\u001b[39;49m\u001b[43m)\u001b[49m\n\u001b[32m    568\u001b[39m     tzname, gmtoff = tt[-\u001b[32m2\u001b[39m:]\n\u001b[32m    569\u001b[39m     args = tt[:\u001b[32m6\u001b[39m] + (fraction,)\n",
      "\u001b[36mFile \u001b[39m\u001b[32m/usr/local/lib/python3.11/_strptime.py:352\u001b[39m, in \u001b[36m_strptime\u001b[39m\u001b[34m(data_string, format)\u001b[39m\n\u001b[32m    349\u001b[39m     \u001b[38;5;28;01mraise\u001b[39;00m \u001b[38;5;167;01mValueError\u001b[39;00m(\u001b[33m\"\u001b[39m\u001b[33mtime data \u001b[39m\u001b[38;5;132;01m%r\u001b[39;00m\u001b[33m does not match format \u001b[39m\u001b[38;5;132;01m%r\u001b[39;00m\u001b[33m\"\u001b[39m %\n\u001b[32m    350\u001b[39m                      (data_string, \u001b[38;5;28mformat\u001b[39m))\n\u001b[32m    351\u001b[39m \u001b[38;5;28;01mif\u001b[39;00m \u001b[38;5;28mlen\u001b[39m(data_string) != found.end():\n\u001b[32m--> \u001b[39m\u001b[32m352\u001b[39m     \u001b[38;5;28;01mraise\u001b[39;00m \u001b[38;5;167;01mValueError\u001b[39;00m(\u001b[33m\"\u001b[39m\u001b[33munconverted data remains: \u001b[39m\u001b[38;5;132;01m%s\u001b[39;00m\u001b[33m\"\u001b[39m %\n\u001b[32m    353\u001b[39m                       data_string[found.end():])\n\u001b[32m    355\u001b[39m iso_year = year = \u001b[38;5;28;01mNone\u001b[39;00m\n\u001b[32m    356\u001b[39m month = day = \u001b[32m1\u001b[39m\n",
      "\u001b[31mValueError\u001b[39m: unconverted data remains:  -2:30 PM"
     ]
    }
   ],
   "source": [
    "from datetime import datetime\n",
    "\n",
    "def parse_events_json(json_file, year = 2025):\n",
    "    \"\"\"Parse JSON file and return list of events with datetime objects\"\"\"\n",
    "    import json\n",
    "    \n",
    "    with open(json_file, 'r') as f:\n",
    "        events_data = json.load(f)\n",
    "    \n",
    "    parsed_events = []\n",
    "    \n",
    "    for item in events_data:\n",
    "        # Parse date (format: \"Wed\\n22\\nOct\")\n",
    "        date_parts = item['date'].split('\\n')\n",
    "        day = int(date_parts[1])\n",
    "        month_str = date_parts[2]\n",
    "        \n",
    "        # Convert month name to number\n",
    "        months = {'Jan': 1, 'Feb': 2, 'Mar': 3, 'Apr': 4, 'May': 5, 'Jun': 6,\n",
    "                  'Jul': 7, 'Aug': 8, 'Sep': 9, 'Oct': 10, 'Nov': 11, 'Dec': 12}\n",
    "        month = months[month_str]\n",
    "        year = 2025\n",
    "        \n",
    "        # Parse time (format: \"12:30 PM -\\n2:30 PM\")\n",
    "        time_parts = item['time'].replace('\\n', '').split(' - ')\n",
    "        \n",
    "        # Create datetime objects\n",
    "        start = datetime.strptime(f\"{year}-{month:02d}-{day:02d} {time_parts[0]}\", \n",
    "                                 \"%Y-%m-%d %I:%M %p\")\n",
    "        end = datetime.strptime(f\"{year}-{month:02d}-{day:02d} {time_parts[1]}\", \n",
    "                               \"%Y-%m-%d %I:%M %p\")\n",
    "        \n",
    "        parsed_events.append({\n",
    "            'start': start,\n",
    "            'end': end,\n",
    "            'summary': '🏓 registration Pickleball'\n",
    "        })\n",
    "    \n",
    "    return parsed_events\n",
    "\n",
    "# Usage\n",
    "events = parse_events_json('appointments.json')\n",
    "for event in events:\n",
    "    print(f\"{event['start'].strftime('%B %d, %Y %I:%M %p')} - {event['end'].strftime('%I:%M %p')}\")"
   ]
  },
  {
   "cell_type": "code",
   "execution_count": null,
   "id": "34650c1b",
   "metadata": {},
   "outputs": [],
   "source": []
  },
  {
   "cell_type": "code",
   "execution_count": 14,
   "id": "937b676a",
   "metadata": {},
   "outputs": [
    {
     "data": {
      "text/plain": [
       "[]"
      ]
     },
     "execution_count": 14,
     "metadata": {},
     "output_type": "execute_result"
    }
   ],
   "source": [
    "pickleball_events = find_pickleball_events(my_calendar)\n",
    "\n",
    "uids_to_delete = [event['uid'] for event in pickleball_events]\n",
    "uids_to_delete"
   ]
  },
  {
   "cell_type": "code",
   "execution_count": null,
   "id": "23614383",
   "metadata": {},
   "outputs": [],
   "source": [
    "def delete_events(calendar,list_events):\n",
    "    uids_to_delete = [event['uid'] for event in list_events]\n",
    "    for uid in uids_to_delete:\n",
    "        try:\n",
    "            event = calendar.event_by_uid(uid)\n",
    "            event.delete()\n",
    "        except:\n",
    "            print(f\"failed to delete:{uid}\")\n",
    "\n",
    "\n"
   ]
  },
  {
   "cell_type": "code",
   "execution_count": 17,
   "id": "5a3f5516",
   "metadata": {},
   "outputs": [],
   "source": [
    "delete_events(my_calendar,pickleball_events)"
   ]
  },
  {
   "cell_type": "code",
   "execution_count": null,
   "id": "91a222fa",
   "metadata": {},
   "outputs": [],
   "source": []
  },
  {
   "cell_type": "code",
   "execution_count": 7,
   "id": "1b103122",
   "metadata": {},
   "outputs": [
    {
     "name": "stdout",
     "output_type": "stream",
     "text": [
      "Événement tennis trouvé: Pickleball Lessons Confirmation\n",
      "Événement tennis trouvé: 🎾 Your Pickleball Appointments - 4 total\n",
      "Événement tennis trouvé: 🎾 Your Pickleball Appointments - 4 total\n"
     ]
    }
   ],
   "source": [
    "#find event horizon 1 week with paddle\n",
    "\n",
    "# Dates pour la semaine à venir\n",
    "start_date = datetime.now()\n",
    "end_date = start_date + timedelta(days=7)\n",
    "events = my_calendar.search(start=start_date, end=end_date)\n",
    "pingpong_events = []\n",
    "\n",
    "for event in events:\n",
    "   cal = icalendar.Calendar.from_ical(event.data)  # Parse les bytes vers objet Calendar\n",
    "   for component in cal.walk():\n",
    "      if component.name == \"VEVENT\":\n",
    "         summary = str(component.get('SUMMARY', ''))\n",
    "         # Vérifier si l'emoji tennis est présent\n",
    "         if '🏓' or '🎾' in summary:\n",
    "            print(f\"Événement tennis trouvé: {summary}\")\n",
    "            pingpong_events.append({\n",
    "                        'summary': summary,\n",
    "                        'start': component.get('dtstart').dt,\n",
    "                        'end': component.get('dtend').dt,\n",
    "                        'uid': str(component.get('uid'))\n",
    "                    })\n",
    "\n",
    "\n",
    "\n",
    "\n"
   ]
  },
  {
   "cell_type": "code",
   "execution_count": 8,
   "id": "49fa3f80",
   "metadata": {},
   "outputs": [
    {
     "data": {
      "text/plain": [
       "[{'summary': 'Pickleball Lessons Confirmation',\n",
       "  'start': datetime.datetime(2025, 10, 7, 13, 45, tzinfo=zoneinfo.ZoneInfo(key='America/Edmonton')),\n",
       "  'end': datetime.datetime(2025, 10, 7, 15, 15, tzinfo=zoneinfo.ZoneInfo(key='America/Edmonton')),\n",
       "  'uid': '2E15338E-27A5-4B46-9FF8-A49920EBC916'},\n",
       " {'summary': '🎾 Your Pickleball Appointments - 4 total',\n",
       "  'start': datetime.datetime(2025, 10, 24, 14, 45, tzinfo=zoneinfo.ZoneInfo(key='America/Edmonton')),\n",
       "  'end': datetime.datetime(2025, 10, 24, 16, 15, tzinfo=zoneinfo.ZoneInfo(key='America/Edmonton')),\n",
       "  'uid': '35D8AA5E-3A6D-4038-97B4-36FF81319077'},\n",
       " {'summary': '🎾 Your Pickleball Appointments - 4 total',\n",
       "  'start': datetime.datetime(2025, 10, 25, 8, 30, tzinfo=zoneinfo.ZoneInfo(key='America/Edmonton')),\n",
       "  'end': datetime.datetime(2025, 10, 25, 10, 30, tzinfo=zoneinfo.ZoneInfo(key='America/Edmonton')),\n",
       "  'uid': 'ED9B347F-2800-493D-A33A-7E0C4A4CD358'}]"
      ]
     },
     "execution_count": 8,
     "metadata": {},
     "output_type": "execute_result"
    }
   ],
   "source": [
    "pingpong_events"
   ]
  },
  {
   "cell_type": "code",
   "execution_count": null,
   "id": "93380334",
   "metadata": {},
   "outputs": [],
   "source": []
  },
  {
   "cell_type": "code",
   "execution_count": null,
   "id": "84d7dec5",
   "metadata": {},
   "outputs": [],
   "source": []
  },
  {
   "cell_type": "code",
   "execution_count": null,
   "id": "fdb25459",
   "metadata": {},
   "outputs": [],
   "source": [
    "a={\n",
    "    \"date\": \"Sat\\n25\\nOct\",\n",
    "    \"time\": \"8:30 AM -\\n10:30 AM\"\n",
    "  }\n",
    "day_num = int(a[\"date\"].split(\"\\n\")[1])\n",
    "month_num=month_map[a[\"date\"].split(\"\\n\")[2]]"
   ]
  },
  {
   "cell_type": "code",
   "execution_count": 55,
   "id": "4523c64a",
   "metadata": {},
   "outputs": [],
   "source": [
    "from datetime import datetime\n"
   ]
  },
  {
   "cell_type": "code",
   "execution_count": 89,
   "id": "d35d49c3",
   "metadata": {},
   "outputs": [],
   "source": [
    "start = a[\"time\"].split(\"-\\n\")[0].replace(' ','')\n",
    "dt_object_start = datetime.strptime(start, '%I:%M%p')\n",
    "hour_start = dt_object_start.hour\n",
    "minute_start = dt_object_start.minute\n",
    "end = a[\"time\"].split(\"-\\n\")[1].replace(' ','')\n",
    "dt_object_end = datetime.strptime(end, '%I:%M%p')\n",
    "hour_end = dt_object_end.hour\n",
    "minute_end = dt_object_end.minute"
   ]
  },
  {
   "cell_type": "code",
   "execution_count": 91,
   "id": "5db67211",
   "metadata": {},
   "outputs": [],
   "source": [
    "import pytz\n"
   ]
  },
  {
   "cell_type": "code",
   "execution_count": 92,
   "id": "ee8aa070",
   "metadata": {},
   "outputs": [],
   "source": [
    "\n",
    "# Set timezone and create event\n",
    "mst = pytz.timezone('America/Denver')\n",
    "start = mst.localize(datetime(2025,month_num,day_num,hour_start,minute_start))\n",
    "end = mst.localize(datetime(2025,month_num,day_num,hour_end,minute_end))"
   ]
  },
  {
   "cell_type": "code",
   "execution_count": 93,
   "id": "bf495b07",
   "metadata": {},
   "outputs": [
    {
     "data": {
      "text/plain": [
       "datetime.datetime(2025, 10, 25, 8, 30, tzinfo=<DstTzInfo 'America/Denver' MDT-1 day, 18:00:00 DST>)"
      ]
     },
     "execution_count": 93,
     "metadata": {},
     "output_type": "execute_result"
    }
   ],
   "source": [
    "start"
   ]
  },
  {
   "cell_type": "code",
   "execution_count": 90,
   "id": "b6fa0583",
   "metadata": {},
   "outputs": [
    {
     "data": {
      "text/plain": [
       "datetime.datetime(2025, 10, 25, 8, 30)"
      ]
     },
     "execution_count": 90,
     "metadata": {},
     "output_type": "execute_result"
    }
   ],
   "source": [
    "datetime(2025,month_num,day_num,hour_start,minute_start,0)"
   ]
  },
  {
   "cell_type": "code",
   "execution_count": 88,
   "id": "5c76a757",
   "metadata": {},
   "outputs": [
    {
     "data": {
      "text/plain": [
       "8"
      ]
     },
     "execution_count": 88,
     "metadata": {},
     "output_type": "execute_result"
    }
   ],
   "source": [
    "hour_start"
   ]
  },
  {
   "cell_type": "code",
   "execution_count": 70,
   "id": "eaa5e593",
   "metadata": {},
   "outputs": [
    {
     "data": {
      "text/plain": [
       "'8:30 PM'"
      ]
     },
     "execution_count": 70,
     "metadata": {},
     "output_type": "execute_result"
    }
   ],
   "source": [
    "debut"
   ]
  },
  {
   "cell_type": "code",
   "execution_count": 82,
   "id": "d8064592",
   "metadata": {},
   "outputs": [
    {
     "data": {
      "text/plain": [
       "8"
      ]
     },
     "execution_count": 82,
     "metadata": {},
     "output_type": "execute_result"
    }
   ],
   "source": [
    "debut='8:30 AM'\n",
    "dt_object = datetime.strptime(debut, '%I:%M %p')\n",
    "hour = dt_object.hour\n",
    "minute = dt_object.minute\n",
    "hour\n"
   ]
  },
  {
   "cell_type": "code",
   "execution_count": null,
   "id": "26206eb0",
   "metadata": {},
   "outputs": [
    {
     "ename": "ValueError",
     "evalue": "'-' is a bad directive in format '%- I:%M %p '",
     "output_type": "error",
     "traceback": [
      "\u001b[31m---------------------------------------------------------------------------\u001b[39m",
      "\u001b[31mValueError\u001b[39m                                Traceback (most recent call last)",
      "\u001b[36mCell\u001b[39m\u001b[36m \u001b[39m\u001b[32mIn[61]\u001b[39m\u001b[32m, line 2\u001b[39m\n\u001b[32m      1\u001b[39m debut = a[\u001b[33m\"\u001b[39m\u001b[33mtime\u001b[39m\u001b[33m\"\u001b[39m].split(\u001b[33m\"\u001b[39m\u001b[33m-\u001b[39m\u001b[38;5;130;01m\\n\u001b[39;00m\u001b[33m\"\u001b[39m)[\u001b[32m0\u001b[39m]\n\u001b[32m----> \u001b[39m\u001b[32m2\u001b[39m b = \u001b[43mdatetime\u001b[49m\u001b[43m.\u001b[49m\u001b[43mstrptime\u001b[49m\u001b[43m(\u001b[49m\u001b[43mdebut\u001b[49m\u001b[43m,\u001b[49m\u001b[43m \u001b[49m\u001b[33;43m'\u001b[39;49m\u001b[33;43m%\u001b[39;49m\u001b[33;43m- I:\u001b[39;49m\u001b[33;43m%\u001b[39;49m\u001b[33;43mM \u001b[39;49m\u001b[33;43m%\u001b[39;49m\u001b[33;43mp \u001b[39;49m\u001b[33;43m'\u001b[39;49m\u001b[43m)\u001b[49m\n",
      "\u001b[36mFile \u001b[39m\u001b[32m/usr/local/lib/python3.11/_strptime.py:567\u001b[39m, in \u001b[36m_strptime_datetime\u001b[39m\u001b[34m(cls, data_string, format)\u001b[39m\n\u001b[32m    564\u001b[39m \u001b[38;5;28;01mdef\u001b[39;00m\u001b[38;5;250m \u001b[39m\u001b[34m_strptime_datetime\u001b[39m(\u001b[38;5;28mcls\u001b[39m, data_string, \u001b[38;5;28mformat\u001b[39m=\u001b[33m\"\u001b[39m\u001b[38;5;132;01m%a\u001b[39;00m\u001b[33m \u001b[39m\u001b[33m%\u001b[39m\u001b[33mb \u001b[39m\u001b[38;5;132;01m%d\u001b[39;00m\u001b[33m \u001b[39m\u001b[33m%\u001b[39m\u001b[33mH:\u001b[39m\u001b[33m%\u001b[39m\u001b[33mM:\u001b[39m\u001b[33m%\u001b[39m\u001b[33mS \u001b[39m\u001b[33m%\u001b[39m\u001b[33mY\u001b[39m\u001b[33m\"\u001b[39m):\n\u001b[32m    565\u001b[39m \u001b[38;5;250m    \u001b[39m\u001b[33;03m\"\"\"Return a class cls instance based on the input string and the\u001b[39;00m\n\u001b[32m    566\u001b[39m \u001b[33;03m    format string.\"\"\"\u001b[39;00m\n\u001b[32m--> \u001b[39m\u001b[32m567\u001b[39m     tt, fraction, gmtoff_fraction = \u001b[43m_strptime\u001b[49m\u001b[43m(\u001b[49m\u001b[43mdata_string\u001b[49m\u001b[43m,\u001b[49m\u001b[43m \u001b[49m\u001b[38;5;28;43mformat\u001b[39;49m\u001b[43m)\u001b[49m\n\u001b[32m    568\u001b[39m     tzname, gmtoff = tt[-\u001b[32m2\u001b[39m:]\n\u001b[32m    569\u001b[39m     args = tt[:\u001b[32m6\u001b[39m] + (fraction,)\n",
      "\u001b[36mFile \u001b[39m\u001b[32m/usr/local/lib/python3.11/_strptime.py:341\u001b[39m, in \u001b[36m_strptime\u001b[39m\u001b[34m(data_string, format)\u001b[39m\n\u001b[32m    339\u001b[39m         bad_directive = \u001b[33m\"\u001b[39m\u001b[33m%\u001b[39m\u001b[33m\"\u001b[39m\n\u001b[32m    340\u001b[39m     \u001b[38;5;28;01mdel\u001b[39;00m err\n\u001b[32m--> \u001b[39m\u001b[32m341\u001b[39m     \u001b[38;5;28;01mraise\u001b[39;00m \u001b[38;5;167;01mValueError\u001b[39;00m(\u001b[33m\"\u001b[39m\u001b[33m'\u001b[39m\u001b[38;5;132;01m%s\u001b[39;00m\u001b[33m'\u001b[39m\u001b[33m is a bad directive in format \u001b[39m\u001b[33m'\u001b[39m\u001b[38;5;132;01m%s\u001b[39;00m\u001b[33m'\u001b[39m\u001b[33m\"\u001b[39m %\n\u001b[32m    342\u001b[39m                         (bad_directive, \u001b[38;5;28mformat\u001b[39m)) \u001b[38;5;28;01mfrom\u001b[39;00m\u001b[38;5;250m \u001b[39m\u001b[38;5;28;01mNone\u001b[39;00m\n\u001b[32m    343\u001b[39m \u001b[38;5;66;03m# IndexError only occurs when the format string is \"%\"\u001b[39;00m\n\u001b[32m    344\u001b[39m \u001b[38;5;28;01mexcept\u001b[39;00m \u001b[38;5;167;01mIndexError\u001b[39;00m:\n",
      "\u001b[31mValueError\u001b[39m: '-' is a bad directive in format '%- I:%M %p '"
     ]
    }
   ],
   "source": [
    "\n",
    "b = datetime.strptime(debut, '%- I:%M %p ')"
   ]
  },
  {
   "cell_type": "code",
   "execution_count": null,
   "id": "3deae254",
   "metadata": {},
   "outputs": [],
   "source": [
    "debut = a[\"time\"].split(\"-\\n\")\n",
    "    end =   time_parts[2] +time_parts[3]\n",
    "    debut_h = datetime.strptime(debut, '%I:%M%p').strftime('%H:%M')\n",
    "    end_h = datetime.strptime(debut, '%I:%M%p').strftime('%H:%M')"
   ]
  },
  {
   "cell_type": "code",
   "execution_count": 47,
   "id": "66d272ac",
   "metadata": {},
   "outputs": [
    {
     "data": {
      "text/plain": [
       "25"
      ]
     },
     "execution_count": 47,
     "metadata": {},
     "output_type": "execute_result"
    }
   ],
   "source": [
    "day_num"
   ]
  },
  {
   "cell_type": "markdown",
   "id": "051e4b68",
   "metadata": {},
   "source": [
    "  {\n",
    "    \"date\": \"Sat\\n25\\nOct\",\n",
    "    \"time\": \"8:30 AM -\\n10:30 AM\"\n",
    "  }--> datetime(2025,10,25,8,30) - datetime(2025,10,25,10,30) \n",
    "\n",
    "\n",
    "    \"date\": \"Mon\\n27\\nOct\",\n",
    "    \"time\": \"2:30 PM -\\n4:30 PM\"\n",
    "   }--> datetime(2025,10,27,14,30) - datetime(2025,10,27,6,30) "
   ]
  },
  {
   "cell_type": "code",
   "execution_count": 1,
   "id": "2be5cb6e",
   "metadata": {},
   "outputs": [
    {
     "name": "stdout",
     "output_type": "stream",
     "text": [
      "🏓 🏐\n"
     ]
    }
   ],
   "source": [
    "paddle = \"🏓\"\n",
    "ball = \"🏐\"\n",
    "print(paddle, ball)"
   ]
  },
  {
   "cell_type": "code",
   "execution_count": 1,
   "id": "50f7173c",
   "metadata": {},
   "outputs": [
    {
     "name": "stdout",
     "output_type": "stream",
     "text": [
      "Defaulting to user installation because normal site-packages is not writeable\n",
      "Requirement already satisfied: caldav in /home/vscode/.local/lib/python3.11/site-packages (2.0.1)\n",
      "Requirement already satisfied: pytz in /home/vscode/.local/lib/python3.11/site-packages (2025.2)\n",
      "Requirement already satisfied: icalendar>6.0.0 in /home/vscode/.local/lib/python3.11/site-packages (from caldav) (6.3.1)\n",
      "Requirement already satisfied: lxml in /home/vscode/.local/lib/python3.11/site-packages (from caldav) (6.0.2)\n",
      "Requirement already satisfied: recurring-ical-events>=2.0.0 in /home/vscode/.local/lib/python3.11/site-packages (from caldav) (3.8.0)\n",
      "Requirement already satisfied: requests in /usr/local/lib/python3.11/site-packages (from caldav) (2.32.5)\n",
      "Requirement already satisfied: python-dateutil in /home/vscode/.local/lib/python3.11/site-packages (from icalendar>6.0.0->caldav) (2.9.0.post0)\n",
      "Requirement already satisfied: tzdata in /home/vscode/.local/lib/python3.11/site-packages (from icalendar>6.0.0->caldav) (2025.2)\n",
      "Requirement already satisfied: x-wr-timezone<3.0.0,>=1.0.0 in /home/vscode/.local/lib/python3.11/site-packages (from recurring-ical-events>=2.0.0->caldav) (2.0.1)\n",
      "Requirement already satisfied: six>=1.5 in /home/vscode/.local/lib/python3.11/site-packages (from python-dateutil->icalendar>6.0.0->caldav) (1.17.0)\n",
      "Requirement already satisfied: click in /home/vscode/.local/lib/python3.11/site-packages (from x-wr-timezone<3.0.0,>=1.0.0->recurring-ical-events>=2.0.0->caldav) (8.3.0)\n",
      "Requirement already satisfied: charset_normalizer<4,>=2 in /usr/local/lib/python3.11/site-packages (from requests->caldav) (3.4.4)\n",
      "Requirement already satisfied: idna<4,>=2.5 in /usr/local/lib/python3.11/site-packages (from requests->caldav) (3.11)\n",
      "Requirement already satisfied: urllib3<3,>=1.21.1 in /usr/local/lib/python3.11/site-packages (from requests->caldav) (2.5.0)\n",
      "Requirement already satisfied: certifi>=2017.4.17 in /usr/local/lib/python3.11/site-packages (from requests->caldav) (2025.10.5)\n"
     ]
    }
   ],
   "source": [
    "!pip install caldav pytz"
   ]
  },
  {
   "cell_type": "code",
   "execution_count": 2,
   "id": "4ed567ad",
   "metadata": {},
   "outputs": [],
   "source": [
    "from caldav import DAVClient\n",
    "from datetime import datetime, timedelta\n",
    "import uuid\n",
    "import os\n",
    "import pytz\n",
    "import icalendar\n"
   ]
  },
  {
   "cell_type": "code",
   "execution_count": null,
   "id": "083a53d8",
   "metadata": {},
   "outputs": [],
   "source": [
    "# iCloud credentials\n",
    "from dotenv import load_dotenv\n",
    "\n",
    "\n",
    "# iCloud credentials\n",
    "\n",
    "CALDAV_USER = os.getenv(\"username\")\n",
    "CALDAV_PASSWORD = os.getenv(\"password_calendar\")  # Generate at appleid.apple.com\n",
    "CALDAV_URL = 'https://caldav.icloud.com'\n"
   ]
  },
  {
   "cell_type": "code",
   "execution_count": 7,
   "id": "4a27c9fe",
   "metadata": {},
   "outputs": [],
   "source": [
    "client = DAVClient(url=CALDAV_URL,username=CALDAV_USER, password=CALDAV_PASSWORD)"
   ]
  },
  {
   "cell_type": "code",
   "execution_count": null,
   "id": "78abb592",
   "metadata": {},
   "outputs": [],
   "source": [
    "principal = client.principal()\n",
    "for cal in principal.calendars():\n",
    "    print(cal.name)\n",
    "    print(cal.url)"
   ]
  },
  {
   "cell_type": "code",
   "execution_count": 9,
   "id": "9e152956",
   "metadata": {},
   "outputs": [],
   "source": [
    "my_calendar = principal.calendar(name=\"Family\")\n"
   ]
  },
  {
   "cell_type": "code",
   "execution_count": 10,
   "id": "4a9aea30",
   "metadata": {},
   "outputs": [],
   "source": [
    "# Dates pour la semaine à venir\n",
    "start_date = datetime.now()\n",
    "end_date = start_date + timedelta(days=7)\n"
   ]
  },
  {
   "cell_type": "code",
   "execution_count": 11,
   "id": "413aa2ec",
   "metadata": {},
   "outputs": [
    {
     "name": "stdout",
     "output_type": "stream",
     "text": [
      "Événement tennis trouvé: 🎾 Your Pickleball Appointments - 4 total\n",
      "Événement tennis trouvé: 🎾 Your Pickleball Appointments - 4 total\n"
     ]
    }
   ],
   "source": [
    "events = my_calendar.search(start=start_date, end=end_date)\n",
    "for event in events:\n",
    "   cal = icalendar.Calendar.from_ical(event.data)  # Parse les bytes vers objet Calendar\n",
    "   for component in cal.walk():\n",
    "      if component.name == \"VEVENT\":\n",
    "         summary = str(component.get('SUMMARY', ''))\n",
    "         # Vérifier si l'emoji tennis est présent\n",
    "         if '🎾' in summary:\n",
    "            print(f\"Événement tennis trouvé: {summary}\")\n",
    "\n",
    "\n",
    "\n"
   ]
  },
  {
   "cell_type": "code",
   "execution_count": 12,
   "id": "8b9a6b36",
   "metadata": {},
   "outputs": [],
   "source": [
    "# Charger le JSON\n",
    "import json\n",
    "with open('appointments.json', 'r') as f:\n",
    "    events = json.load(f)\n"
   ]
  },
  {
   "cell_type": "code",
   "execution_count": null,
   "id": "d9df161c",
   "metadata": {},
   "outputs": [
    {
     "data": {
      "text/plain": [
       "[{'date': 'Wed\\n22\\nOct', 'time': '12:30 PM -\\n2:30 PM'},\n",
       " {'date': 'Fri\\n24\\nOct', 'time': '2:45 PM -\\n4:15 PM'},\n",
       " {'date': 'Sat\\n25\\nOct', 'time': '8:30 AM -\\n10:30 AM'},\n",
       " {'date': 'Mon\\n27\\nOct', 'time': '2:30 PM -\\n4:30 PM'}]"
      ]
     },
     "execution_count": 13,
     "metadata": {},
     "output_type": "execute_result"
    }
   ],
   "source": [
    "events\n",
    "year =2025\n"
   ]
  },
  {
   "cell_type": "code",
   "execution_count": 30,
   "id": "7330f6e8",
   "metadata": {},
   "outputs": [
    {
     "name": "stdout",
     "output_type": "stream",
     "text": [
      "2025\n",
      "Oct\n",
      "22\n",
      "12:30\n",
      "2025\n",
      "Oct\n",
      "24\n",
      "14:45\n",
      "2025\n",
      "Oct\n",
      "25\n",
      "08:30\n",
      "2025\n",
      "Oct\n",
      "27\n",
      "14:30\n"
     ]
    }
   ],
   "source": [
    "# Parser et ajouter chaque événement\n",
    "for event_data in events:\n",
    "    # Nettoyer et parser la date\n",
    "    date_parts = event_data['date'].replace('\\n', ' ').split()  # ['Wed', '22', 'Oct']\n",
    "    day_num = date_parts[1]\n",
    "    month = date_parts[2]\n",
    "    time_parts = event_data['time'].replace('-\\n', ' ').split()  # ['Wed', '22', 'Oct']\n",
    "    debut = time_parts[0] + time_parts[1]\n",
    "    end =   time_parts[2] +time_parts[3]\n",
    "    debut_h = datetime.strptime(debut, '%I:%M%p').strftime('%H:%M')\n",
    "    end_h = datetime.strptime(debut, '%I:%M%p').strftime('%H:%M')\n",
    "    year=2025\n",
    "    print(year)\n",
    "    print(month)\n",
    "    print(day_num)\n",
    "    print(end_h)\n",
    "\n",
    "\n",
    "\n"
   ]
  },
  {
   "cell_type": "code",
   "execution_count": null,
   "id": "cc4639fa",
   "metadata": {},
   "outputs": [],
   "source": [
    "    \"date\": \"Sat\\n25\\nOct\",\n"
   ]
  },
  {
   "cell_type": "code",
   "execution_count": 37,
   "id": "eee9b679",
   "metadata": {},
   "outputs": [
    {
     "data": {
      "text/plain": [
       "'27/Oct/2025'"
      ]
     },
     "execution_count": 37,
     "metadata": {},
     "output_type": "execute_result"
    }
   ],
   "source": [
    "date_string = str(day_num)+\"/\"+month+\"/\"+str(year)\n",
    "\n",
    "date_string"
   ]
  },
  {
   "cell_type": "code",
   "execution_count": 39,
   "id": "fa966f08",
   "metadata": {},
   "outputs": [
    {
     "data": {
      "text/plain": [
       "datetime.datetime(2025, 10, 27, 0, 0)"
      ]
     },
     "execution_count": 39,
     "metadata": {},
     "output_type": "execute_result"
    }
   ],
   "source": [
    "dt_object"
   ]
  },
  {
   "cell_type": "code",
   "execution_count": 38,
   "id": "e497d71c",
   "metadata": {},
   "outputs": [
    {
     "name": "stdout",
     "output_type": "stream",
     "text": [
      "The number for October in 27/Oct/2025 is: 10\n"
     ]
    }
   ],
   "source": [
    "from datetime import datetime\n",
    "\n",
    "dt_object = datetime.strptime(date_string, \"%d/%b/%Y\")\n",
    "month_number = dt_object.month\n",
    "print(f\"The number for October in {date_string} is: {month_number}\")"
   ]
  },
  {
   "cell_type": "code",
   "execution_count": null,
   "id": "80fcffd9",
   "metadata": {},
   "outputs": [],
   "source": []
  },
  {
   "cell_type": "code",
   "execution_count": 29,
   "id": "1fd3c200",
   "metadata": {},
   "outputs": [
    {
     "data": {
      "text/plain": [
       "'14:30'"
      ]
     },
     "execution_count": 29,
     "metadata": {},
     "output_type": "execute_result"
    }
   ],
   "source": [
    "debut\n",
    "dt_object = datetime.strptime(debut, '%I:%M%p')\n",
    "\n",
    "time_24hr_str = dt_object.strftime('%H:%M')\n",
    "time_24hr_str\n"
   ]
  },
  {
   "cell_type": "code",
   "execution_count": 20,
   "id": "f5b4d636",
   "metadata": {},
   "outputs": [
    {
     "data": {
      "text/plain": [
       "['2:30', 'PM', '4:30', 'PM']"
      ]
     },
     "execution_count": 20,
     "metadata": {},
     "output_type": "execute_result"
    }
   ],
   "source": [
    "time_parts"
   ]
  },
  {
   "cell_type": "code",
   "execution_count": 14,
   "id": "101fbbb9",
   "metadata": {},
   "outputs": [
    {
     "ename": "ValueError",
     "evalue": "not enough values to unpack (expected 2, got 1)",
     "output_type": "error",
     "traceback": [
      "\u001b[31m---------------------------------------------------------------------------\u001b[39m",
      "\u001b[31mValueError\u001b[39m                                Traceback (most recent call last)",
      "\u001b[36mCell\u001b[39m\u001b[36m \u001b[39m\u001b[32mIn[14]\u001b[39m\u001b[32m, line 10\u001b[39m\n\u001b[32m      8\u001b[39m \u001b[38;5;66;03m# Nettoyer et parser les heures\u001b[39;00m\n\u001b[32m      9\u001b[39m time_clean = event_data[\u001b[33m'\u001b[39m\u001b[33mtime\u001b[39m\u001b[33m'\u001b[39m].replace(\u001b[33m'\u001b[39m\u001b[38;5;130;01m\\n\u001b[39;00m\u001b[33m'\u001b[39m, \u001b[33m'\u001b[39m\u001b[33m'\u001b[39m)  \u001b[38;5;66;03m# \"12:30 PM -2:30 PM\"\u001b[39;00m\n\u001b[32m---> \u001b[39m\u001b[32m10\u001b[39m start_time, end_time = time_clean.split(\u001b[33m'\u001b[39m\u001b[33m - \u001b[39m\u001b[33m'\u001b[39m)\n\u001b[32m     12\u001b[39m \u001b[38;5;66;03m# Construire les datetime (année 2024)\u001b[39;00m\n\u001b[32m     13\u001b[39m year = \u001b[32m2025\u001b[39m\n",
      "\u001b[31mValueError\u001b[39m: not enough values to unpack (expected 2, got 1)"
     ]
    }
   ],
   "source": [
    "\n",
    "# Parser et ajouter chaque événement\n",
    "for event_data in events:\n",
    "    # Nettoyer et parser la date\n",
    "    date_parts = event_data['date'].replace('\\n', ' ').split()  # ['Wed', '22', 'Oct']\n",
    "    day_num = date_parts[1]\n",
    "    month = date_parts[2]\n",
    "    \n",
    "    # Nettoyer et parser les heures\n",
    "    time_clean = event_data['time'].replace('\\n', '')  # \"12:30 PM -2:30 PM\"\n",
    "    start_time, end_time = time_clean.split(' - ')\n",
    "    \n",
    "    # Construire les datetime (année 2024)\n",
    "    year = 2025\n",
    "    start = datetime.strptime(f\"{day_num} {month} {year} {start_time}\", \"%d %b %Y %I:%M %p\")\n",
    "    end = datetime.strptime(f\"{day_num} {month} {year} {end_time}\", \"%d %b %Y %I:%M %p\")\n",
    "    \n"
   ]
  },
  {
   "cell_type": "code",
   "execution_count": null,
   "id": "eeb8f8a1",
   "metadata": {},
   "outputs": [],
   "source": []
  }
 ],
 "metadata": {
  "kernelspec": {
   "display_name": "Python 3",
   "language": "python",
   "name": "python3"
  },
  "language_info": {
   "codemirror_mode": {
    "name": "ipython",
    "version": 3
   },
   "file_extension": ".py",
   "mimetype": "text/x-python",
   "name": "python",
   "nbconvert_exporter": "python",
   "pygments_lexer": "ipython3",
   "version": "3.11.14"
  }
 },
 "nbformat": 4,
 "nbformat_minor": 5
}
