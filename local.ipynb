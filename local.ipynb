{
 "cells": [
  {
   "cell_type": "code",
   "execution_count": null,
   "id": "23785a90",
   "metadata": {},
   "outputs": [],
   "source": [
    "import sys"
   ]
  },
  {
   "cell_type": "code",
   "execution_count": 1,
   "id": "067b0b2e",
   "metadata": {},
   "outputs": [
    {
     "name": "stdout",
     "output_type": "stream",
     "text": [
      "Variable 1: 07-Sep-25\n",
      "Variable 2: 4:30\n"
     ]
    }
   ],
   "source": [
    "from selenium import webdriver\n",
    "from webdriver_manager.chrome import ChromeDriverManager\n",
    "from selenium.webdriver.chrome.service import Service\n",
    "from selenium.webdriver.chrome.options import Options\n",
    "import time\n",
    "from selenium.webdriver.common.by import By\n",
    "\n",
    "from selenium.webdriver.support.ui import WebDriverWait\n",
    "from selenium.webdriver.support import expected_conditions as EC\n",
    "from dotenv import load_dotenv\n",
    "from datetime import datetime, timedelta\n",
    "\n",
    "import os\n",
    "import sys\n",
    "\n",
    "\n",
    "TARGET_DATE = os.getenv(\"DEFAULT_DATE\", \"07-Sep-25\")\n",
    "COURSE_TYPE = \"Indoor Pickleball Intermediate\"\n",
    "COURSE_LEVEL = \"Intermediate\"\n",
    "TARGET_TIME = os.getenv(\"DEFAULT_TIME\", \"4:30\")\n",
    "\n",
    "print(f\"Variable 1: {TARGET_DATE}\")\n",
    "#print(f\"Variable 2: {COURSE_TYPE}\")\n",
    "print(f\"Variable 2: {TARGET_TIME}\")\n",
    "\n",
    "# Modifiez juste ces valeurs :\n",
    "#TARGET_DATE = \"19-Aug-25\"  # ← VOTRE DATE ICI\n",
    "#COURSE_TYPE = \"Indoor Pickleball Intermediate\"\n",
    "#TARGET_TIME = \"4:30\""
   ]
  },
  {
   "cell_type": "code",
   "execution_count": 2,
   "id": "f9aae51d",
   "metadata": {},
   "outputs": [],
   "source": [
    "\n",
    "\n",
    "\n",
    "email = os.getenv('YOUR_SECRET_EMAIL')\n",
    "password = os.getenv('YOUR_SECRET_PASSWORD')\n",
    "logon_url = os.getenv(\"YOUR_SECRET_LOGON_URL\")\n",
    "planning_url = os.getenv('YOUR_SECRET_PLANNING_URL')\n",
    "login_url = os.getenv('YOUR_SECRET_LOGIN_URL')\n",
    "my_name = os.getenv('YOUR_SECRET_My_NAME')"
   ]
  },
  {
   "cell_type": "code",
   "execution_count": 3,
   "id": "3a55dcfa",
   "metadata": {},
   "outputs": [
    {
     "name": "stdout",
     "output_type": "stream",
     "text": [
      "=== STATUS DES AUTRES SECRETS (MASQUÉS) ===\n",
      "EMAIL: ✅ DÉFINI\n",
      "PASSWORD: ✅ DÉFINI\n",
      "MY_NAME: ✅ DÉFINI\n",
      "\n"
     ]
    }
   ],
   "source": [
    "\n",
    "print(\"=== STATUS DES AUTRES SECRETS (MASQUÉS) ===\")\n",
    "print(f\"EMAIL: {'✅ DÉFINI' if email else '❌ MISSING'}\")\n",
    "print(f\"PASSWORD: {'✅ DÉFINI' if password else '❌ MISSING'}\")\n",
    "print(f\"MY_NAME: {'✅ DÉFINI' if my_name else '❌ MISSING'}\")\n",
    "print()\n",
    "import time\n",
    "#from PIL import Image\n",
    "import io\n"
   ]
  },
  {
   "cell_type": "code",
   "execution_count": 4,
   "id": "d60f3c85",
   "metadata": {},
   "outputs": [],
   "source": [
    "import sys\n",
    "sys.path.append(\"..\")  # Pour être sûr que le dossier parent est dans le path (utile si notebook dans un sous-dossier)\n",
    "from utils import check_date"
   ]
  },
  {
   "cell_type": "code",
   "execution_count": 5,
   "id": "34f25320",
   "metadata": {},
   "outputs": [],
   "source": [
    "TARGET_DATE=\"13-Sep-25\"\n"
   ]
  },
  {
   "cell_type": "code",
   "execution_count": 6,
   "id": "396893a5",
   "metadata": {},
   "outputs": [
    {
     "data": {
      "text/plain": [
       "(True, False)"
      ]
     },
     "execution_count": 6,
     "metadata": {},
     "output_type": "execute_result"
    }
   ],
   "source": [
    "check_date(target_date=TARGET_DATE)"
   ]
  },
  {
   "cell_type": "code",
   "execution_count": 7,
   "id": "3aa4b4a3",
   "metadata": {},
   "outputs": [],
   "source": [
    "\n",
    "\n",
    "def access_login(website_url, email_login, secret_password):\n",
    "    \"\"\"Script simple : saisir email + password et prendre screenshots\"\"\"\n",
    "\n",
    "    print(\"🚀 Script simple - Email + Password + Screenshots\")\n",
    "    print(\"=\" * 50)\n",
    "    #print(f\"🌐 Site: {website_url}\")\n",
    "    #print(f\"📧 Email: {email}\")\n",
    "    print(\"🔑 Password: ****\")\n",
    "    print()\n",
    "\n",
    "    # Configuration\n",
    "    options = Options()\n",
    "    options.add_argument('--headless')\n",
    "    options.add_argument('--no-sandbox')\n",
    "\n",
    "    # Driver\n",
    "    service = Service(ChromeDriverManager().install())\n",
    "    driver = webdriver.Chrome(service=service, options=options)\n",
    "\n",
    "        # Si vous avez déjà un driver ouvert\n",
    "    driver.set_window_size(1920, 1080)\n",
    "    driver.maximize_window()\n",
    "\n",
    "    # Ou définir une taille spécifique\n",
    "    driver.set_window_size(1400, 900)\n",
    "\n",
    "    # Rafraîchir la page pour que les changements prennent effet\n",
    "    driver.refresh()\n",
    "\n",
    "    # Étape 1: Aller sur le site\n",
    "    print(\"🌐 Connexion au site...\")\n",
    "    driver.get(website_url)\n",
    "    time.sleep(3)\n",
    "    print(f\"📄 Titre: {driver.title}\")\n",
    "    # Screenshot avant\n",
    "    driver.save_screenshot(\"1_avant_saisie.png\")\n",
    "    print(\"📸 Screenshot 1: 1_avant_saisie.png\")\n",
    "    email_field = driver.find_element(By.XPATH, \"//input[@type='email']\")\n",
    "    (\"✅ Champ email trouvé par type='email'\")\n",
    "    email_field\n",
    "    if email_field:\n",
    "            print(\"📝 Saisie de l'email...\")\n",
    "            email_field.clear()\n",
    "            email_field.send_keys(email_login)\n",
    "            #(f\"✅ Email saisi: {email_login}\")\n",
    "            time.sleep(1)\n",
    "\n",
    "    # Screenshot après email\n",
    "    driver.save_screenshot(\"2_apres_email.png\")\n",
    "    print(\"📸 Screenshot 2: 2_apres_email.png\")\n",
    "    # Étape 3: Trouver et remplir le champ password\n",
    "    print(\"🔑 Recherche du champ Password...\")\n",
    "\n",
    "    password_field = None\n",
    "\n",
    "    password_field = driver.find_element(By.XPATH, \"//input[@type='password']\")\n",
    "    print(\"✅ Champ password trouvé par type='password'\")\n",
    "\n",
    "\n",
    "    if password_field:\n",
    "        print(\"📝 Saisie du password...\")\n",
    "        password_field.clear()\n",
    "        password_field.send_keys(secret_password)\n",
    "        print(\"✅ Password saisi\")\n",
    "        time.sleep(1)\n",
    "\n",
    "        # Screenshot après password\n",
    "    driver.save_screenshot(\"3_apres_password.png\")\n",
    "    print(\"📸 Screenshot 3: 3_apres_password.png\")\n",
    "\n",
    "    login_button = None\n",
    "    login_button = driver.find_element(By.XPATH, \"//input[@value='Login']\")\n",
    "\n",
    "    login_button.click()\n",
    "    print(\"✅ Bouton cliqué!\")\n",
    "\n",
    "    # Étape 6: Attendre la redirection et vérifier\n",
    "    print(\"⏳ Attente de la redirection...\")\n",
    "    time.sleep(5)\n",
    "\n",
    "    # Screenshot après connexion\n",
    "    driver.save_screenshot(\"4_apres_clic.png\")\n",
    "    print(\"📸 Screenshot 4: 4_apres_clic.png\")\n",
    "    #print(driver.current_url)\n",
    "    return driver\n",
    "\n"
   ]
  },
  {
   "cell_type": "code",
   "execution_count": 8,
   "id": "ad5f4ab9",
   "metadata": {},
   "outputs": [
    {
     "name": "stdout",
     "output_type": "stream",
     "text": [
      "🚀 Script simple - Email + Password + Screenshots\n",
      "==================================================\n",
      "🔑 Password: ****\n",
      "\n",
      "🌐 Connexion au site...\n",
      "📄 Titre: Login - Registration\n",
      "📸 Screenshot 1: 1_avant_saisie.png\n",
      "📝 Saisie de l'email...\n",
      "📸 Screenshot 2: 2_apres_email.png\n",
      "🔑 Recherche du champ Password...\n",
      "✅ Champ password trouvé par type='password'\n",
      "📝 Saisie du password...\n",
      "✅ Password saisi\n",
      "📸 Screenshot 3: 3_apres_password.png\n",
      "✅ Bouton cliqué!\n",
      "⏳ Attente de la redirection...\n",
      "📸 Screenshot 4: 4_apres_clic.png\n"
     ]
    }
   ],
   "source": [
    "driver = access_login(logon_url, email, password) # navigate after login\n"
   ]
  },
  {
   "cell_type": "code",
   "execution_count": 9,
   "id": "352538f5",
   "metadata": {},
   "outputs": [],
   "source": [
    "\n",
    "def check_basket(driver,login_url):\n",
    "    # Look up if basket is empty\n",
    "    if driver.current_url == login_url:\n",
    "        is_empty = driver.execute_script(\"return document.querySelector('span.basket-badge').textContent;\") == \"0\"\n",
    "        return is_empty\n",
    "    else:\n",
    "         print(\"not login\")"
   ]
  },
  {
   "cell_type": "code",
   "execution_count": 10,
   "id": "6ac5d832",
   "metadata": {},
   "outputs": [],
   "source": [
    "possible_to_book, next_week_booking = check_date(TARGET_DATE)\n"
   ]
  },
  {
   "cell_type": "code",
   "execution_count": 11,
   "id": "850dfac9",
   "metadata": {},
   "outputs": [
    {
     "data": {
      "text/plain": [
       "False"
      ]
     },
     "execution_count": 11,
     "metadata": {},
     "output_type": "execute_result"
    }
   ],
   "source": [
    "next_week_booking"
   ]
  },
  {
   "cell_type": "code",
   "execution_count": 12,
   "id": "25149dd6",
   "metadata": {},
   "outputs": [],
   "source": [
    "check_basket(driver, login_url) #check empty basket\n",
    "driver.get(planning_url)"
   ]
  },
  {
   "cell_type": "code",
   "execution_count": 13,
   "id": "be17bf8d",
   "metadata": {},
   "outputs": [],
   "source": [
    "if next_week_booking:\n",
    "    next_week_btn = driver.find_element(By.XPATH, \"//input[@value='Next Week']\")\n",
    "    next_week_btn.click()\n",
    "    time.sleep(3)  # Attendre le chargement"
   ]
  },
  {
   "cell_type": "code",
   "execution_count": 14,
   "id": "8460afea",
   "metadata": {},
   "outputs": [
    {
     "data": {
      "text/plain": [
       "True"
      ]
     },
     "execution_count": 14,
     "metadata": {},
     "output_type": "execute_result"
    }
   ],
   "source": [
    "driver.save_screenshot(\"5_planning_page.png\")"
   ]
  },
  {
   "cell_type": "code",
   "execution_count": 15,
   "id": "6b04d11b",
   "metadata": {},
   "outputs": [
    {
     "data": {
      "text/plain": [
       "'Indoor Pickleball Intermediate'"
      ]
     },
     "execution_count": 15,
     "metadata": {},
     "output_type": "execute_result"
    }
   ],
   "source": [
    "COURSE_TYPE"
   ]
  },
  {
   "cell_type": "code",
   "execution_count": 16,
   "id": "21f8a92e",
   "metadata": {},
   "outputs": [
    {
     "data": {
      "text/plain": [
       "'4:30'"
      ]
     },
     "execution_count": 16,
     "metadata": {},
     "output_type": "execute_result"
    }
   ],
   "source": [
    "TARGET_TIME"
   ]
  },
  {
   "cell_type": "code",
   "execution_count": 17,
   "id": "c650af89",
   "metadata": {},
   "outputs": [
    {
     "data": {
      "text/plain": [
       "'13-Sep-25'"
      ]
     },
     "execution_count": 17,
     "metadata": {},
     "output_type": "execute_result"
    }
   ],
   "source": [
    "TARGET_DATE"
   ]
  },
  {
   "cell_type": "code",
   "execution_count": null,
   "id": "87ec33a4",
   "metadata": {},
   "outputs": [
    {
     "name": "stdout",
     "output_type": "stream",
     "text": [
      "🔍 Recherche de boutons avec données de cours...\n",
      "📋 33 bouton(s) de cours trouvé(s)\n",
      "🔘 Bouton 2: Indoor Pickleball Intermediate à 8:30 AM - 10:30 AM le Sat, 13-Sep-25 (2 places)\n",
      "🔘 Bouton 9: Indoor Pickleball Intermediate à 12:45 PM - 2:45 PM le Sat, 13-Sep-25 (0 places)\n"
     ]
    }
   ],
   "source": [
    "print(\"🔍 Recherche de boutons avec données de cours...\")\n",
    "course_buttons = driver.find_elements(By.XPATH, \"//button[@data-class-time]\")\n",
    "print(f\"📋 {len(course_buttons)} bouton(s) de cours trouvé(s)\")\n",
    "found_slots = None\n",
    "for i, button in enumerate(course_buttons):\n",
    "        \n",
    "            # Extraire les données du bouton\n",
    "    class_name = button.get_attribute('data-class-name') or ''\n",
    "    class_date = button.get_attribute('data-class-date') or ''\n",
    "    class_time = button.get_attribute('data-class-time') or ''\n",
    "    class_spaces = button.get_attribute('data-class-spaces') or '0'\n",
    "    class_location = button.get_attribute('data-class-location') or ''\n",
    "    class_venue = button.get_attribute('data-class-venue') or ''\n",
    "    date_match = TARGET_DATE in class_date\n",
    "    level_match = COURSE_LEVEL in class_name\n",
    "    time_match\n",
    "    if date_match & level_match:\n",
    "        print(f\"🔘 Bouton {i+1}: {class_name} à {class_time} le {class_date} ({class_spaces} places)\")\n",
    "\n",
    "\n",
    "\n"
   ]
  },
  {
   "cell_type": "code",
   "execution_count": null,
   "id": "5a2d4755",
   "metadata": {},
   "outputs": [],
   "source": [
    "def look_for_slots(driver, target_date, target_name, target_time):\n",
    "    print(\"🔍 Recherche de boutons avec données de cours...\")\n",
    "\n",
    "    # Chercher tous les boutons avec data-class-time (structure de votre site)\n",
    "    course_buttons = driver.find_elements(By.XPATH, \"//button[@data-class-time]\")\n",
    "\n",
    "    print(f\"📋 {len(course_buttons)} bouton(s) de cours trouvé(s)\")\n",
    "\n",
    "    found_slots = None\n",
    "\n",
    "    for i, button in enumerate(course_buttons):\n",
    "        \n",
    "            # Extraire les données du bouton\n",
    "            class_name = button.get_attribute('data-class-name') or ''\n",
    "            class_date = button.get_attribute('data-class-date') or ''\n",
    "            class_time = button.get_attribute('data-class-time') or ''\n",
    "            class_spaces = button.get_attribute('data-class-spaces') or '0'\n",
    "            class_location = button.get_attribute('data-class-location') or ''\n",
    "            class_venue = button.get_attribute('data-class-venue') or ''\n",
    "            \n",
    "            #print(f\"\\n  Cours {i+1}:\")\n",
    "            #print(f\"    Nom: {class_name}\")\n",
    "            #print(f\"    Date: {class_date}\")\n",
    "            #print(f\"    Heure: {class_time}\")\n",
    "            #print(f\"    Places: {class_spaces}\")\n",
    "            \n",
    "            # Vérifier si c'est le bon jour ET contient 6:30 PM\n",
    "            date_match = target_date in class_date\n",
    "            name_match = target_name in class_name\n",
    "            time_match = target_time in class_time.split(\"-\")[0] or target_time.lstrip() in class_time.split(\"-\")[0]\n",
    "            \n",
    "            if date_match:\n",
    "                 pass\n",
    "                #print(f\"    Heure: {class_time}\")\n",
    "                #print(f\"    Nom: {class_name}\")\n",
    "                #print(f\"    Date: {class_date}\")\n",
    "                #print(f\"    Heure: {class_time}\")\n",
    "                #print(f\"    Places: {class_spaces}\")\n",
    "            \n",
    "            if date_match and time_match and name_match:\n",
    "                print(f\"    ✅ CORRESPONDANCE TROUVÉE!\")\n",
    "                spaces_available = int(class_spaces)\n",
    "                print(spaces_available)\n",
    "                #driver.save_screenshot(\"7_find_date_planning.png\")\n",
    "                slot_info = {\n",
    "                            'button': button,\n",
    "                            'class_name': class_name,\n",
    "                            'class_date': class_date,\n",
    "                            'class_time': class_time,\n",
    "                            'class_spaces': spaces_available,\n",
    "                            'class_location': class_location,\n",
    "                            'class_venue': class_venue,\n",
    "                            'available': spaces_available > 0\n",
    "                        }\n",
    "                        \n",
    "                found_slots = slot_info\n",
    "                        \n",
    "                if spaces_available > 0:\n",
    "                    print(f\"    ✅ DISPONIBLE - {spaces_available} place(s)\")\n",
    "                    \n",
    "                else:\n",
    "                    print(f\"    ❌ COMPLET - 0 place\")\n",
    "                break\n",
    "    if found_slots == None:\n",
    "        print(f\"    ❌ NO CORRESPONDANCE TROUVÉE!\")\n",
    "    return found_slots"
   ]
  }
 ],
 "metadata": {
  "kernelspec": {
   "display_name": "Python 3",
   "language": "python",
   "name": "python3"
  },
  "language_info": {
   "codemirror_mode": {
    "name": "ipython",
    "version": 3
   },
   "file_extension": ".py",
   "mimetype": "text/x-python",
   "name": "python",
   "nbconvert_exporter": "python",
   "pygments_lexer": "ipython3",
   "version": "3.11.13"
  }
 },
 "nbformat": 4,
 "nbformat_minor": 5
}
