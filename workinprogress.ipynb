{
 "cells": [
  {
   "cell_type": "code",
   "execution_count": 1,
   "id": "ee34339f",
   "metadata": {},
   "outputs": [],
   "source": [
    "import argparse\n",
    "from selenium import webdriver\n",
    "from webdriver_manager.chrome import ChromeDriverManager\n",
    "from selenium.webdriver.chrome.service import Service\n",
    "from selenium.webdriver.chrome.options import Options\n",
    "import time\n",
    "from selenium.webdriver.common.by import By\n",
    "from selenium.webdriver.support.ui import WebDriverWait\n",
    "from selenium.webdriver.support import expected_conditions as EC\n",
    "from dotenv import load_dotenv\n",
    "import os\n",
    "from datetime import datetime\n",
    "from PIL import Image\n",
    "import io\n",
    "\n",
    "# ---------------------- FONCTIONS UTILITAIRES ----------------------\n",
    "\n",
    "def take_full_page_screenshot(driver, filename):\n",
    "    \"\"\"Prend une capture d'écran de toute la page.\"\"\"\n",
    "    window_size = driver.get_window_size()\n",
    "    total_height = driver.execute_script(\"return document.body.parentNode.scrollHeight\")\n",
    "    driver.set_window_size(window_size['width'], total_height)\n",
    "    time.sleep(2)\n",
    "    driver.save_screenshot(filename)\n",
    "    driver.set_window_size(window_size['width'], window_size['height'])\n",
    "\n",
    "def check_date(target_date):\n",
    "    \"\"\"Vérifie si la date cible est dans moins de 7 jours et après aujourd'hui.\"\"\"\n",
    "    your_date = datetime.strptime(target_date, \"%d-%b-%y\")\n",
    "    today = datetime.now()\n",
    "    is_after_today = your_date > today\n",
    "    difference = your_date - today\n",
    "    days_difference = difference.days\n",
    "    next_week = days_difference == 6\n",
    "    less_7_days = days_difference <= 6\n",
    "    possible = is_after_today & less_7_days\n",
    "    print(f\"Your date: {your_date.strftime('%Y-%m-%d')}\")\n",
    "    print(f\"Today: {today.strftime('%Y-%m-%d')}\")\n",
    "    print(f\"Is after today: {is_after_today}\")\n",
    "    print(f\"Days difference: {days_difference}\")\n",
    "    return possible, next_week\n",
    "\n",
    "def access_login(website_url, email_login, secret_password):\n",
    "    \"\"\"Se connecte au site avec email et mot de passe, prend des captures d'écran.\"\"\"\n",
    "    print(\"🚀 Script simple - Email + Password + Screenshots\")\n",
    "    options = Options()\n",
    "    options.add_argument('--headless')\n",
    "    options.add_argument('--no-sandbox')\n",
    "    service = Service(ChromeDriverManager().install())\n",
    "    driver = webdriver.Chrome(service=service, options=options)\n",
    "    driver.set_window_size(1400, 900)\n",
    "    driver.refresh()\n",
    "    print(\"🌐 Connexion au site...\")\n",
    "    driver.get(website_url)\n",
    "    time.sleep(3)\n",
    "    print(f\"📄 Titre: {driver.title}\")\n",
    "    driver.save_screenshot(\"1_avant_saisie.png\")\n",
    "    print(\"📸 Screenshot 1: 1_avant_saisie.png\")\n",
    "    email_field = driver.find_element(By.XPATH, \"//input[@type='email']\")\n",
    "    if email_field:\n",
    "        print(\"📝 Saisie de l'email...\")\n",
    "        email_field.clear()\n",
    "        email_field.send_keys(email_login)\n",
    "        time.sleep(1)\n",
    "    driver.save_screenshot(\"2_apres_email.png\")\n",
    "    print(\"📸 Screenshot 2: 2_apres_email.png\")\n",
    "    print(\"🔑 Recherche du champ Password...\")\n",
    "    password_field = driver.find_element(By.XPATH, \"//input[@type='password']\")\n",
    "    if password_field:\n",
    "        print(\"📝 Saisie du password...\")\n",
    "        password_field.clear()\n",
    "        password_field.send_keys(secret_password)\n",
    "        print(\"✅ Password saisi\")\n",
    "        time.sleep(1)\n",
    "    driver.save_screenshot(\"3_apres_password.png\")\n",
    "    print(\"📸 Screenshot 3: 3_apres_password.png\")\n",
    "    login_button = driver.find_element(By.XPATH, \"//input[@value='Login']\")\n",
    "    login_button.click()\n",
    "    print(\"✅ Bouton cliqué!\")\n",
    "    print(\"⏳ Attente de la redirection...\")\n",
    "    time.sleep(5)\n",
    "    driver.save_screenshot(\"4_apres_clic.png\")\n",
    "    print(\"📸 Screenshot 4: 4_apres_clic.png\")\n",
    "    return driver\n",
    "\n",
    "def check_basket(driver, login_url):\n",
    "    \"\"\"Vérifie si le panier est vide après connexion.\"\"\"\n",
    "    if driver.current_url == login_url:\n",
    "        is_empty = driver.execute_script(\"return document.querySelector('span.basket-badge').textContent;\") == \"0\"\n",
    "        return is_empty\n",
    "    else:\n",
    "        print(\"not login\")\n",
    "\n",
    "def click_for_me(driver, target_date, my_name):\n",
    "    \"\"\"Clique sur le bouton de réservation pour soi-même.\"\"\"\n",
    "    moi_elements = driver.find_elements(By.XPATH, f\"//*[contains(text(), '{my_name}')]\")\n",
    "    for i, moi_element in enumerate(moi_elements):\n",
    "        parent = moi_element.find_element(By.XPATH, \"./..\")\n",
    "        moi_buttons = parent.find_elements(By.XPATH, \".//*[contains(text(), 'Book') or contains(text(), 'Réserver') or contains(text(), 'Select') or contains(text(), 'Choose')]\")\n",
    "        if moi_buttons:\n",
    "            moi_button = moi_buttons[0]\n",
    "            print(f\"✅ Bouton trouvé près de Moi: '{moi_button.text.strip()}'\")\n",
    "            print(f\"🖱️ Clic pour réserver pour Moi...\")\n",
    "            moi_button.click()\n",
    "            print(\"✅ Réservation Moi cliquée!\")\n",
    "            time.sleep(3)\n",
    "            driver.save_screenshot(f\"7_before_basket_{target_date.replace('-', '_')}.png\")\n",
    "            print(f\"📸 Screenshot final: reservation_moi_{target_date.replace('-', '_')}.png\")\n",
    "            return True\n",
    "    return False\n",
    "\n",
    "def look_for_slots(driver, target_date, target_name, target_time):\n",
    "    \"\"\"Recherche les créneaux disponibles correspondant aux critères.\"\"\"\n",
    "    print(\"🔍 Recherche de boutons avec données de cours...\")\n",
    "    course_buttons = driver.find_elements(By.XPATH, \"//button[@data-class-time]\")\n",
    "    print(f\"📋 {len(course_buttons)} bouton(s) de cours trouvé(s)\")\n",
    "    found_slots = None\n",
    "    for i, button in enumerate(course_buttons):\n",
    "        class_name = button.get_attribute('data-class-name') or ''\n",
    "        class_date = button.get_attribute('data-class-date') or ''\n",
    "        class_time = button.get_attribute('data-class-time') or ''\n",
    "        class_spaces = button.get_attribute('data-class-spaces') or '0'\n",
    "        class_location = button.get_attribute('data-class-location') or ''\n",
    "        class_venue = button.get_attribute('data-class-venue') or ''\n",
    "        date_match = target_date in class_date\n",
    "        name_match = target_name in class_name\n",
    "        time_match = target_time in class_time.split(\"-\")[0] or target_time.lstrip() in class_time.split(\"-\")[0]\n",
    "        if date_match and time_match and name_match:\n",
    "            print(f\"    ✅ CORRESPONDANCE TROUVÉE!\")\n",
    "            spaces_available = int(class_spaces)\n",
    "            slot_info = {\n",
    "                'button': button,\n",
    "                'class_name': class_name,\n",
    "                'class_date': class_date,\n",
    "                'class_time': class_time,\n",
    "                'class_spaces': spaces_available,\n",
    "                'class_location': class_location,\n",
    "                'class_venue': class_venue,\n",
    "                'available': spaces_available > 0\n",
    "            }\n",
    "            found_slots = slot_info\n",
    "            if spaces_available > 0:\n",
    "                print(f\"    ✅ DISPONIBLE - {spaces_available} place(s)\")\n",
    "            else:\n",
    "                print(f\"    ❌ COMPLET - 0 place\")\n",
    "            break\n",
    "    if found_slots is None:\n",
    "        print(f\"    ❌ NO CORRESPONDANCE TROUVÉE!\")\n",
    "    return found_slots\n",
    "\n",
    "def click_confirm_basket(driver, target_date):\n",
    "    \"\"\"Clique sur le bouton de validation du panier.\"\"\"\n",
    "    basket = driver.find_elements(By.XPATH, \"//*[contains(text(), 'Checkout')]\")\n",
    "    if basket:\n",
    "        basket[0].click()\n",
    "        time.sleep(3)\n",
    "        driver.save_screenshot(f\"8_after_basket_{target_date.replace('-', '_')}.png\")\n",
    "        return True\n",
    "    return False\n",
    "\n",
    "def click_on_slot(driver, slot_available):\n",
    "    \"\"\"Clique sur le bouton pour réserver le créneau trouvé.\"\"\"\n",
    "    info_button = slot_available['button']\n",
    "    parent = info_button.find_element(By.XPATH, \"./..\")\n",
    "    book_buttons = parent.find_elements(By.XPATH, \".//*[contains(text(), 'Book Now') or contains(text(), 'Book')]\")\n",
    "    if book_buttons:\n",
    "        print(f\"✅ Bouton 'Book Now' trouvé dans le même conteneur\")\n",
    "        book_buttons[0].click()\n",
    "        time.sleep(3)\n",
    "        driver.save_screenshot(\"6_click_on_slot.png\")\n",
    "        return True\n",
    "    return False\n",
    "\n"
   ]
  },
  {
   "cell_type": "code",
   "execution_count": 2,
   "id": "4534c849",
   "metadata": {},
   "outputs": [],
   "source": [
    "email = os.getenv('YOUR_SECRET_EMAIL')\n",
    "password = os.getenv('YOUR_SECRET_PASSWORD')\n",
    "logon_url = os.getenv('YOUR_SECRET_LOGON_URL')\n",
    "planning_url = os.getenv('YOUR_SECRET_PLANNING_URL')\n",
    "login_url = os.getenv('YOUR_SECRET_LOGIN_URL')\n",
    "my_name = os.getenv('YOUR_SECRET_My_NAME')"
   ]
  },
  {
   "cell_type": "code",
   "execution_count": 36,
   "id": "1883779e",
   "metadata": {},
   "outputs": [],
   "source": [
    "driver.quit()\n"
   ]
  },
  {
   "cell_type": "code",
   "execution_count": 37,
   "id": "0f9c568d",
   "metadata": {},
   "outputs": [
    {
     "name": "stdout",
     "output_type": "stream",
     "text": [
      "🚀 Script simple - Email + Password + Screenshots\n",
      "🌐 Connexion au site...\n",
      "📄 Titre: Login - Registration\n",
      "📸 Screenshot 1: 1_avant_saisie.png\n",
      "📝 Saisie de l'email...\n",
      "📸 Screenshot 2: 2_apres_email.png\n",
      "🔑 Recherche du champ Password...\n",
      "📝 Saisie du password...\n",
      "✅ Password saisi\n",
      "📸 Screenshot 3: 3_apres_password.png\n",
      "✅ Bouton cliqué!\n",
      "⏳ Attente de la redirection...\n",
      "📸 Screenshot 4: 4_apres_clic.png\n",
      "Your date: 2025-07-31\n",
      "Today: 2025-07-27\n",
      "Is after today: True\n",
      "Days difference: 3\n"
     ]
    }
   ],
   "source": [
    "# Modifiez juste ces valeurs :\n",
    "target_date = \"31-Jul-25\"  # ← VOTRE DATE ICI\n",
    "COURSE_TYPE = \"Indoor Pickleball Intermediate\"\n",
    "TARGET_TIME = \"6:30\"\n",
    "\n",
    "   # Connexion au site\n",
    "driver = access_login(logon_url, email, password)\n",
    "possible_to_book, next_week_booking = check_date(target_date)\n"
   ]
  },
  {
   "cell_type": "code",
   "execution_count": 38,
   "id": "cf71fe3c",
   "metadata": {},
   "outputs": [
    {
     "data": {
      "text/plain": [
       "True"
      ]
     },
     "execution_count": 38,
     "metadata": {},
     "output_type": "execute_result"
    }
   ],
   "source": [
    "possible_to_book"
   ]
  },
  {
   "cell_type": "code",
   "execution_count": 39,
   "id": "78a7f148",
   "metadata": {},
   "outputs": [
    {
     "data": {
      "text/plain": [
       "True"
      ]
     },
     "execution_count": 39,
     "metadata": {},
     "output_type": "execute_result"
    }
   ],
   "source": [
    "check_basket(driver, login_url)"
   ]
  },
  {
   "cell_type": "code",
   "execution_count": 33,
   "id": "ae3218ea",
   "metadata": {},
   "outputs": [
    {
     "data": {
      "text/plain": [
       "True"
      ]
     },
     "execution_count": 33,
     "metadata": {},
     "output_type": "execute_result"
    }
   ],
   "source": [
    "\n",
    "driver.get('https://mycalgaryjcc.com/CJCC/public/Basket')\n",
    "time.sleep(3)\n",
    "\n",
    "driver.save_screenshot(\"basket.png\")"
   ]
  },
  {
   "cell_type": "code",
   "execution_count": 34,
   "id": "2f1d4420",
   "metadata": {},
   "outputs": [],
   "source": [
    "def cancel_basket_and_confirm(driver):\n",
    "    \"\"\"\n",
    "    Clique sur 'Cancel Basket' puis confirme l'annulation si le bouton de confirmation apparaît.\n",
    "    \"\"\"\n",
    "    try:\n",
    "        # 1. Cliquer sur le lien 'Cancel Basket'\n",
    "        cancel_link = driver.find_element(By.XPATH, \"//a[@title='Cancel Basket']\")\n",
    "        cancel_link.click()\n",
    "        print(\"✅ Lien 'Cancel Basket' cliqué.\")\n",
    "        time.sleep(2)  # Attendre le chargement de la page de confirmation\n",
    "\n",
    "        # 2. Cliquer sur le bouton de confirmation\n",
    "        confirm_btn = driver.find_element(By.XPATH, \"//input[@type='submit' and @value='Cancel Basket']\")\n",
    "        confirm_btn.click()\n",
    "        print(\"✅ Confirmation 'Cancel Basket' cliquée.\")\n",
    "        time.sleep(2)\n",
    "        return True\n",
    "    except Exception as e:\n",
    "        print(\"❌ Impossible d'annuler le panier :\", e)\n",
    "        return False"
   ]
  },
  {
   "cell_type": "code",
   "execution_count": null,
   "id": "3a400b9b",
   "metadata": {},
   "outputs": [
    {
     "name": "stdout",
     "output_type": "stream",
     "text": [
      "✅ Lien 'Cancel Basket' cliqué.\n",
      "✅ Confirmation 'Cancel Basket' cliquée.\n"
     ]
    },
    {
     "data": {
      "text/plain": [
       "True"
      ]
     },
     "execution_count": 35,
     "metadata": {},
     "output_type": "execute_result"
    }
   ],
   "source": [
    "cancel_basket_and_confirm(driver)\n",
    "time.sleep(3)\n",
    "driver.save_screenshot(\"check.png\")\n",
    "\n",
    "def click_continue_shopping(driver):\n",
    "    \"\"\"\n",
    "    Clique sur le bouton 'Continue Shopping' si présent sur la page.\n",
    "    \"\"\"\n",
    "    try:\n",
    "        continue_btn = driver.find_element(By.XPATH, \"//a[@title='Continue Shopping']\")\n",
    "        continue_btn.click()\n",
    "        print(\"✅ Bouton 'Continue Shopping' cliqué.\")\n",
    "        time.sleep(2)\n",
    "        return True\n",
    "    except Exception as e:\n",
    "        print(\"❌ Bouton 'Continue Shopping' non trouvé ou erreur :\", e)\n",
    "        return False\n",
    "    \n",
    "click_continue_shopping(driver)\n",
    "check_basket(driver, login_url)"
   ]
  },
  {
   "cell_type": "code",
   "execution_count": null,
   "id": "2ca13f1f",
   "metadata": {},
   "outputs": [],
   "source": [
    "  course_type = args.course_type\n",
    "    target_time = args.target_time\n",
    "\n",
    "    # Connexion au site\n",
    "    driver = access_login(logon_url, email, password)\n",
    "    possible_to_book, next_week_booking = check_date(target_date)\n",
    "\n",
    "    if possible_to_book:\n",
    "        if check_basket(driver, login_url):  # Vérifie que le panier est vide\n",
    "            driver.get(planning_url)  # Va à la page de planning\n",
    "            if next_week_booking:\n",
    "                next_week_btn = driver.find_element(By.XPATH, \"//input[@value='Next Week']\")\n",
    "                next_week_btn.click()\n",
    "            time.sleep(3)\n",
    "            driver.save_screenshot(\"5_planning_page.png\")\n",
    "            print(\"📸 Screenshot: planning_page.png\")\n",
    "            slot_available = look_for_slots(driver, target_date, course_type, target_time)\n",
    "            if slot_available:\n",
    "                if click_on_slot(driver, slot_available):\n",
    "                    if click_for_me(driver, target_date, my_name):\n",
    "                        click_confirm_basket(driver, target_date)\n",
    "    driver.quit()\n",
    "\n",
    "if __name__ == \"__main__\":\n",
    "    main()"
   ]
  }
 ],
 "metadata": {
  "kernelspec": {
   "display_name": "Python 3",
   "language": "python",
   "name": "python3"
  },
  "language_info": {
   "codemirror_mode": {
    "name": "ipython",
    "version": 3
   },
   "file_extension": ".py",
   "mimetype": "text/x-python",
   "name": "python",
   "nbconvert_exporter": "python",
   "pygments_lexer": "ipython3",
   "version": "3.12.1"
  }
 },
 "nbformat": 4,
 "nbformat_minor": 5
}
