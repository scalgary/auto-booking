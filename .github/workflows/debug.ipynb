{
 "cells": [
  {
   "cell_type": "code",
   "execution_count": 2,
   "id": "75eb5046",
   "metadata": {},
   "outputs": [],
   "source": [
    "from selenium import webdriver\n",
    "from webdriver_manager.chrome import ChromeDriverManager\n",
    "from selenium.webdriver.chrome.service import Service\n",
    "from selenium.webdriver.chrome.options import Options\n",
    "import time\n",
    "from selenium.webdriver.common.by import By\n",
    "\n",
    "from selenium.webdriver.support.ui import WebDriverWait\n",
    "from selenium.webdriver.support import expected_conditions as EC\n",
    "from dotenv import load_dotenv\n",
    "import os\n",
    "\n",
    "\n",
    "import sys"
   ]
  },
  {
   "cell_type": "code",
   "execution_count": 3,
   "id": "0737ed33",
   "metadata": {},
   "outputs": [
    {
     "name": "stdout",
     "output_type": "stream",
     "text": [
      "=== STATUS DES AUTRES SECRETS (MASQUÉS) ===\n",
      "EMAIL: ✅ DÉFINI\n",
      "PASSWORD: ✅ DÉFINI\n",
      "MY_NAME: ✅ DÉFINI\n",
      "\n",
      "🚀 Script simple - Email + Password + Screenshots\n",
      "==================================================\n",
      "🔑 Password: ****\n",
      "\n",
      "🌐 Connexion au site...\n",
      "📄 Titre: Login - Registration\n",
      "📸 Screenshot 1: 1_avant_saisie.png\n",
      "📝 Saisie de l'email...\n",
      "📸 Screenshot 2: 2_apres_email.png\n",
      "🔑 Recherche du champ Password...\n",
      "✅ Champ password trouvé par type='password'\n",
      "📝 Saisie du password...\n",
      "✅ Password saisi\n",
      "📸 Screenshot 3: 3_apres_password.png\n",
      "✅ Bouton cliqué!\n",
      "⏳ Attente de la redirection...\n",
      "📸 Screenshot 4: 4_apres_clic.png\n",
      "Your date: 2025-09-11\n",
      "Today: 2025-09-08\n",
      "Is after today: True\n",
      "Days difference: 2\n"
     ]
    }
   ],
   "source": [
    "\n",
    "\n",
    "COURSE_TYPE = \"Indoor Pickleball Intermediate\"\n",
    "COURSE_LEVEL = \"Intermediate\"\n",
    "TARGET_DATE = \"11-Sep-25\"  # ← VOTRE DATE ICI\n",
    "\n",
    "TARGET_TIME = \"4:15\"\n",
    "\n",
    "\n",
    "\n",
    "#load_dotenv()  # Charge le fichier .env when running in codespace\n",
    "\n",
    "email = os.getenv('YOUR_SECRET_EMAIL')\n",
    "password = os.getenv('YOUR_SECRET_PASSWORD')\n",
    "logon_url = os.getenv(\"YOUR_SECRET_LOGON_URL\")\n",
    "planning_url = os.getenv('YOUR_SECRET_PLANNING_URL')\n",
    "login_url = os.getenv('YOUR_SECRET_LOGIN_URL')\n",
    "my_name = os.getenv('YOUR_SECRET_My_NAME')\n",
    "\n",
    "print(\"=== STATUS DES AUTRES SECRETS (MASQUÉS) ===\")\n",
    "print(f\"EMAIL: {'✅ DÉFINI' if email else '❌ MISSING'}\")\n",
    "print(f\"PASSWORD: {'✅ DÉFINI' if password else '❌ MISSING'}\")\n",
    "print(f\"MY_NAME: {'✅ DÉFINI' if my_name else '❌ MISSING'}\")\n",
    "print()\n",
    "import time\n",
    "#from PIL import Image\n",
    "import io\n",
    "\n",
    "def take_full_page_screenshot(driver, filename):\n",
    "    # Obtenir la taille de la fenêtre\n",
    "    window_size = driver.get_window_size()\n",
    "    \n",
    "    # Obtenir la hauteur totale de la page\n",
    "    total_height = driver.execute_script(\"return document.body.parentNode.scrollHeight\")\n",
    "    \n",
    "    # Redimensionner pour capturer toute la page\n",
    "    driver.set_window_size(window_size['width'], total_height)\n",
    "    \n",
    "    # Attendre que la page se charge complètement\n",
    "    time.sleep(2)\n",
    "    \n",
    "    # Prendre la capture d'écran\n",
    "    driver.save_screenshot(filename)\n",
    "    \n",
    "    # Remettre la taille originale\n",
    "    driver.set_window_size(window_size['width'], window_size['height'])\n",
    "\n",
    "from datetime import datetime, timedelta\n",
    "\n",
    "def check_date(target_date):\n",
    "\n",
    "    # Parse the date string\n",
    "    your_date = datetime.strptime(target_date, \"%d-%b-%y\")\n",
    "\n",
    "    # Get today's date\n",
    "    today = datetime.now()\n",
    "\n",
    "    # Check if your date is after today\n",
    "    is_after_today = your_date > today\n",
    "\n",
    "    # Calculate the difference in days\n",
    "    difference = your_date - today\n",
    "    days_difference = difference.days\n",
    "\n",
    "    # Check if exactly 7 days difference\n",
    "    next_week = days_difference == 6\n",
    "    less_7_days = days_difference <=6\n",
    "    possible = is_after_today & less_7_days\n",
    "\n",
    "\n",
    "    print(f\"Your date: {your_date.strftime('%Y-%m-%d')}\")\n",
    "    print(f\"Today: {today.strftime('%Y-%m-%d')}\")\n",
    "    print(f\"Is after today: {is_after_today}\")\n",
    "    print(f\"Days difference: {days_difference}\")\n",
    "    return possible, next_week\n",
    "\n",
    "\n",
    "\n",
    "def access_login(website_url, email_login, secret_password):\n",
    "    \"\"\"Script simple : saisir email + password et prendre screenshots\"\"\"\n",
    "\n",
    "    print(\"🚀 Script simple - Email + Password + Screenshots\")\n",
    "    print(\"=\" * 50)\n",
    "    #print(f\"🌐 Site: {website_url}\")\n",
    "    #print(f\"📧 Email: {email}\")\n",
    "    print(\"🔑 Password: ****\")\n",
    "    print()\n",
    "\n",
    "    # Configuration\n",
    "    options = Options()\n",
    "    options.add_argument('--headless')\n",
    "    options.add_argument('--no-sandbox')\n",
    "\n",
    "    # Driver\n",
    "    service = Service(ChromeDriverManager().install())\n",
    "    driver = webdriver.Chrome(service=service, options=options)\n",
    "\n",
    "        # Si vous avez déjà un driver ouvert\n",
    "    driver.set_window_size(1920, 1080)\n",
    "    driver.maximize_window()\n",
    "\n",
    "    # Ou définir une taille spécifique\n",
    "    driver.set_window_size(1400, 900)\n",
    "\n",
    "    # Rafraîchir la page pour que les changements prennent effet\n",
    "    driver.refresh()\n",
    "\n",
    "    # Étape 1: Aller sur le site\n",
    "    print(\"🌐 Connexion au site...\")\n",
    "    driver.get(website_url)\n",
    "    time.sleep(3)\n",
    "    print(f\"📄 Titre: {driver.title}\")\n",
    "    # Screenshot avant\n",
    "    driver.save_screenshot(\"1_avant_saisie.png\")\n",
    "    print(\"📸 Screenshot 1: 1_avant_saisie.png\")\n",
    "    email_field = driver.find_element(By.XPATH, \"//input[@type='email']\")\n",
    "    (\"✅ Champ email trouvé par type='email'\")\n",
    "    email_field\n",
    "    if email_field:\n",
    "            print(\"📝 Saisie de l'email...\")\n",
    "            email_field.clear()\n",
    "            email_field.send_keys(email_login)\n",
    "            #(f\"✅ Email saisi: {email_login}\")\n",
    "            time.sleep(1)\n",
    "\n",
    "    # Screenshot après email\n",
    "    driver.save_screenshot(\"2_apres_email.png\")\n",
    "    print(\"📸 Screenshot 2: 2_apres_email.png\")\n",
    "    # Étape 3: Trouver et remplir le champ password\n",
    "    print(\"🔑 Recherche du champ Password...\")\n",
    "\n",
    "    password_field = None\n",
    "\n",
    "    password_field = driver.find_element(By.XPATH, \"//input[@type='password']\")\n",
    "    print(\"✅ Champ password trouvé par type='password'\")\n",
    "\n",
    "\n",
    "    if password_field:\n",
    "        print(\"📝 Saisie du password...\")\n",
    "        password_field.clear()\n",
    "        password_field.send_keys(secret_password)\n",
    "        print(\"✅ Password saisi\")\n",
    "        time.sleep(1)\n",
    "\n",
    "        # Screenshot après password\n",
    "    driver.save_screenshot(\"3_apres_password.png\")\n",
    "    print(\"📸 Screenshot 3: 3_apres_password.png\")\n",
    "\n",
    "    login_button = None\n",
    "    login_button = driver.find_element(By.XPATH, \"//input[@value='Login']\")\n",
    "\n",
    "    login_button.click()\n",
    "    print(\"✅ Bouton cliqué!\")\n",
    "\n",
    "    # Étape 6: Attendre la redirection et vérifier\n",
    "    print(\"⏳ Attente de la redirection...\")\n",
    "    time.sleep(5)\n",
    "\n",
    "    # Screenshot après connexion\n",
    "    driver.save_screenshot(\"4_apres_clic.png\")\n",
    "    print(\"📸 Screenshot 4: 4_apres_clic.png\")\n",
    "    #print(driver.current_url)\n",
    "    return driver\n",
    "\n",
    "def check_basket(driver,login_url):\n",
    "    # Look up if basket is empty\n",
    "    if driver.current_url == login_url:\n",
    "        is_empty = driver.execute_script(\"return document.querySelector('span.basket-badge').textContent;\") == \"0\"\n",
    "        return is_empty\n",
    "    else:\n",
    "         print(\"not login\")\n",
    "    \n",
    "def click_for_me(driver, target_date, my_name):\n",
    "    moi_elements = driver.find_elements(By.XPATH, f\"//*[contains(text(), '{my_name}')]\")\n",
    "    # Chercher un bouton près de moi\n",
    "    for i, moi_element in enumerate(moi_elements):\n",
    "\n",
    "        # Chercher dans le conteneur parent\n",
    "        parent = moi_element.find_element(By.XPATH, \"./..\")\n",
    "        \n",
    "        # Chercher des boutons de réservation\n",
    "        moi_buttons = parent.find_elements(By.XPATH, \".//*[contains(text(), 'Book') or contains(text(), 'Réserver') or contains(text(), 'Select') or contains(text(), 'Choose')]\")\n",
    "        \n",
    "        if moi_buttons:\n",
    "            moi_button = moi_buttons[0]\n",
    "            \n",
    "            print(f\"✅ Bouton trouvé près de Moi: '{moi_button.text.strip()}'\")\n",
    "            print(f\"🖱️ Clic pour réserver pour Moi...\")\n",
    "\n",
    "            moi_button.click()\n",
    "                        \n",
    "            print(\"✅ Réservation Moi cliquée!\")\n",
    "            time.sleep(3)\n",
    "                        \n",
    "                        # Screenshot final\n",
    "            driver.save_screenshot(f\"7_before_basket_{target_date.replace('-', '_')}.png\")\n",
    "            print(f\"📸 Screenshot final: reservation_moi_{target_date.replace('-', '_')}.png\")\n",
    "            return True\n",
    "    return False\n",
    "def look_for_slots(driver, target_date, target_level, target_time):\n",
    "    print(\"🔍 Recherche de boutons avec données de cours...\")\n",
    "\n",
    "    # Chercher tous les boutons avec data-class-time (structure de votre site)\n",
    "    course_buttons = driver.find_elements(By.XPATH, \"//button[@data-class-time]\")\n",
    "\n",
    "    print(f\"📋 {len(course_buttons)} bouton(s) de cours trouvé(s)\")\n",
    "\n",
    "    found_slots = None\n",
    "\n",
    "    for i, button in enumerate(course_buttons):\n",
    "        \n",
    "            # Extraire les données du bouton\n",
    "            class_name = button.get_attribute('data-class-name') or ''\n",
    "            class_date = button.get_attribute('data-class-date') or ''\n",
    "            class_time = button.get_attribute('data-class-time') or ''\n",
    "            class_spaces = button.get_attribute('data-class-spaces') or '0'\n",
    "            class_location = button.get_attribute('data-class-location') or ''\n",
    "            class_venue = button.get_attribute('data-class-venue') or ''\n",
    "            \n",
    "            #print(f\"\\n  Cours {i+1}:\")\n",
    "            #print(f\"    Nom: {class_name}\")\n",
    "            #print(f\"    Date: {class_date}\")\n",
    "            #print(f\"    Heure: {class_time}\")\n",
    "            #print(f\"    Places: {class_spaces}\")\n",
    "            \n",
    "            # Vérifier si c'est le bon jour ET contient 6:30 PM\n",
    "            date_match = target_date in class_date\n",
    "            level_match = target_level in class_name\n",
    "            time_match = target_time in class_time.split(\"-\")[0] or target_time.lstrip() in class_time.split(\"-\")[0]\n",
    "            \n",
    "            if date_match:\n",
    "                 pass\n",
    "                #print(f\"    Heure: {class_time}\")\n",
    "                #print(f\"    Nom: {class_name}\")\n",
    "                #print(f\"    Date: {class_date}\")\n",
    "                #print(f\"    Heure: {class_time}\")\n",
    "                #print(f\"    Places: {class_spaces}\")\n",
    "            \n",
    "            if date_match and time_match and level_match:\n",
    "                print(f\"    ✅ CORRESPONDANCE TROUVÉE!\")\n",
    "                spaces_available = int(class_spaces)\n",
    "                print(spaces_available)\n",
    "                #driver.save_screenshot(\"7_find_date_planning.png\")\n",
    "                slot_info = {\n",
    "                            'button': button,\n",
    "                            'class_name': class_name,\n",
    "                            'class_date': class_date,\n",
    "                            'class_time': class_time,\n",
    "                            'class_spaces': spaces_available,\n",
    "                            'class_location': class_location,\n",
    "                            'class_venue': class_venue,\n",
    "                            'available': spaces_available > 0\n",
    "                        }\n",
    "                        \n",
    "                        \n",
    "                if spaces_available > 0:\n",
    "                    print(f\"    ✅ DISPONIBLE - {spaces_available} place(s)\")\n",
    "                    found_slots = slot_info\n",
    "                    \n",
    "                else:\n",
    "                    print(f\"    ❌ COMPLET - 0 place\")\n",
    "                break\n",
    "    if found_slots == None:\n",
    "        print(f\"    ❌ NO CORRESPONDANCE TROUVÉE!\")\n",
    "    return found_slots\n",
    "            \n",
    "\n",
    "def click_confirm_basket(driver):\n",
    "    basket = driver.find_elements(By.XPATH, \"//*[contains(text(), 'Checkout')]\")\n",
    "    if basket:\n",
    "        basket[0].click()\n",
    "        time.sleep(3)\n",
    "        driver.save_screenshot(f\"8_after_basket_{TARGET_DATE.replace('-', '_')}.png\")\n",
    "        return True\n",
    "    return False\n",
    "                \n",
    "def click_on_slot(driver, slot_available):\n",
    "    info_button = slot_available['button']\n",
    "    parent = info_button.find_element(By.XPATH, \"./..\")\n",
    "    book_buttons = parent.find_elements(By.XPATH, \".//*[contains(text(), 'Book Now') or contains(text(), 'Book')]\")\n",
    "    if book_buttons:\n",
    "        print(f\"✅ Bouton 'Book Now' trouvé dans le même conteneur\")\n",
    "        book_buttons[0].click()\n",
    "        time.sleep(3)\n",
    "        driver.save_screenshot(\"6_click_on_slot.png\")\n",
    "        return True\n",
    "    return False\n",
    "\n",
    "\n",
    "driver = access_login(logon_url, email, password) # navigate after login\n",
    "possible_to_book, next_week_booking = check_date(TARGET_DATE)\n"
   ]
  },
  {
   "cell_type": "code",
   "execution_count": 4,
   "id": "9122c4c4",
   "metadata": {},
   "outputs": [],
   "source": [
    "success = False"
   ]
  },
  {
   "cell_type": "code",
   "execution_count": 5,
   "id": "a3a5ea6c",
   "metadata": {},
   "outputs": [
    {
     "data": {
      "text/plain": [
       "True"
      ]
     },
     "execution_count": 5,
     "metadata": {},
     "output_type": "execute_result"
    }
   ],
   "source": [
    "possible_to_book"
   ]
  },
  {
   "cell_type": "code",
   "execution_count": 6,
   "id": "39de305d",
   "metadata": {},
   "outputs": [
    {
     "data": {
      "text/plain": [
       "True"
      ]
     },
     "execution_count": 6,
     "metadata": {},
     "output_type": "execute_result"
    }
   ],
   "source": [
    "check_basket(driver, login_url)"
   ]
  },
  {
   "cell_type": "code",
   "execution_count": 7,
   "id": "1d9b0b12",
   "metadata": {},
   "outputs": [],
   "source": [
    "driver.get(planning_url) "
   ]
  },
  {
   "cell_type": "code",
   "execution_count": 8,
   "id": "c81e2d15",
   "metadata": {},
   "outputs": [
    {
     "data": {
      "text/plain": [
       "False"
      ]
     },
     "execution_count": 8,
     "metadata": {},
     "output_type": "execute_result"
    }
   ],
   "source": [
    "next_week_booking"
   ]
  },
  {
   "cell_type": "code",
   "execution_count": 9,
   "id": "0ead2d92",
   "metadata": {},
   "outputs": [
    {
     "name": "stdout",
     "output_type": "stream",
     "text": [
      "🔍 Recherche de boutons avec données de cours...\n",
      "📋 29 bouton(s) de cours trouvé(s)\n",
      "    ✅ CORRESPONDANCE TROUVÉE!\n",
      "4\n",
      "    ✅ DISPONIBLE - 4 place(s)\n"
     ]
    }
   ],
   "source": [
    "slot_available = look_for_slots(driver, TARGET_DATE, COURSE_LEVEL, TARGET_TIME)\n"
   ]
  },
  {
   "cell_type": "code",
   "execution_count": 10,
   "id": "efef9d27",
   "metadata": {},
   "outputs": [
    {
     "data": {
      "text/plain": [
       "True"
      ]
     },
     "execution_count": 10,
     "metadata": {},
     "output_type": "execute_result"
    }
   ],
   "source": [
    "slot_available is not None"
   ]
  },
  {
   "cell_type": "code",
   "execution_count": 11,
   "id": "8eddd79b",
   "metadata": {},
   "outputs": [
    {
     "name": "stdout",
     "output_type": "stream",
     "text": [
      "✅ Bouton 'Book Now' trouvé dans le même conteneur\n"
     ]
    },
    {
     "data": {
      "text/plain": [
       "True"
      ]
     },
     "execution_count": 11,
     "metadata": {},
     "output_type": "execute_result"
    }
   ],
   "source": [
    "click_on_slot(driver, slot_available)"
   ]
  },
  {
   "cell_type": "code",
   "execution_count": 12,
   "id": "d10498ed",
   "metadata": {},
   "outputs": [
    {
     "name": "stdout",
     "output_type": "stream",
     "text": [
      "✅ Bouton trouvé près de Moi: 'Book Now'\n",
      "🖱️ Clic pour réserver pour Moi...\n",
      "✅ Réservation Moi cliquée!\n",
      "📸 Screenshot final: reservation_moi_11_Sep_25.png\n"
     ]
    },
    {
     "data": {
      "text/plain": [
       "True"
      ]
     },
     "execution_count": 12,
     "metadata": {},
     "output_type": "execute_result"
    }
   ],
   "source": [
    "click_for_me(driver, TARGET_DATE, my_name)"
   ]
  },
  {
   "cell_type": "code",
   "execution_count": 14,
   "id": "589565ef",
   "metadata": {},
   "outputs": [
    {
     "data": {
      "text/plain": [
       "<selenium.webdriver.chrome.webdriver.WebDriver (session=\"a292ec0e2a984a92f1f6fd4341b553eb\")>"
      ]
     },
     "execution_count": 14,
     "metadata": {},
     "output_type": "execute_result"
    }
   ],
   "source": [
    "driver\n"
   ]
  },
  {
   "cell_type": "code",
   "execution_count": 17,
   "id": "d9428f22",
   "metadata": {},
   "outputs": [
    {
     "name": "stdout",
     "output_type": "stream",
     "text": [
      "Alert-danger trouvée!\n",
      "Message: Error:\n",
      "The user is already booked on this class\n"
     ]
    }
   ],
   "source": [
    "# Plus pythonique et plus rapide\n",
    "alerts = driver.find_elements(By.CLASS_NAME, \"alert-danger\")\n",
    "if alerts:\n",
    "    print(\"Alert-danger trouvée!\")\n",
    "    print(f\"Message: {alerts[0].text}\")\n",
    "else:\n",
    "    print(\"Pas d'alert-danger\")"
   ]
  },
  {
   "cell_type": "code",
   "execution_count": 16,
   "id": "4992542c",
   "metadata": {},
   "outputs": [
    {
     "name": "stdout",
     "output_type": "stream",
     "text": [
      "Élément alert-danger trouvé!\n",
      "Message: Error:\n",
      "The user is already booked on this class\n"
     ]
    }
   ],
   "source": [
    "#Méthode 1: Try/except\n",
    "try:\n",
    "    alert_element = driver.find_element(By.CLASS_NAME, \"alert-danger\")\n",
    "    print(\"Élément alert-danger trouvé!\")\n",
    "    print(f\"Message: {alert_element.text}\")\n",
    "except NoSuchElementException:\n",
    "    print(\"Aucun élément alert-danger trouvé\")"
   ]
  },
  {
   "cell_type": "code",
   "execution_count": 15,
   "id": "372550f9",
   "metadata": {},
   "outputs": [
    {
     "data": {
      "text/plain": [
       "<selenium.webdriver.remote.webelement.WebElement (session=\"a292ec0e2a984a92f1f6fd4341b553eb\", element=\"f.375BBA73155BE05795808C3D34F8EDBF.d.A894F8D16D1015220B942E1F71B476F7.e.136\")>"
      ]
     },
     "execution_count": 15,
     "metadata": {},
     "output_type": "execute_result"
    }
   ],
   "source": [
    "driver.find_element(By.CLASS_NAME, \"alert-danger\")"
   ]
  },
  {
   "cell_type": "code",
   "execution_count": 13,
   "id": "8279f3d1",
   "metadata": {},
   "outputs": [
    {
     "data": {
      "text/plain": [
       "[]"
      ]
     },
     "execution_count": 13,
     "metadata": {},
     "output_type": "execute_result"
    }
   ],
   "source": [
    "driver.find_elements(By.XPATH, f\"//*[contains(text(), 'already booked')]\")\n"
   ]
  },
  {
   "cell_type": "code",
   "execution_count": 15,
   "id": "30bc362f",
   "metadata": {},
   "outputs": [],
   "source": [
    "success = click_confirm_basket(driver)"
   ]
  },
  {
   "cell_type": "code",
   "execution_count": 16,
   "id": "bcd577da",
   "metadata": {},
   "outputs": [
    {
     "data": {
      "text/plain": [
       "True"
      ]
     },
     "execution_count": 16,
     "metadata": {},
     "output_type": "execute_result"
    }
   ],
   "source": [
    "success"
   ]
  },
  {
   "cell_type": "code",
   "execution_count": 17,
   "id": "f310b505",
   "metadata": {},
   "outputs": [
    {
     "ename": "SystemExit",
     "evalue": "0",
     "output_type": "error",
     "traceback": [
      "An exception has occurred, use %tb to see the full traceback.\n",
      "\u001b[31mSystemExit\u001b[39m\u001b[31m:\u001b[39m 0\n"
     ]
    },
    {
     "name": "stderr",
     "output_type": "stream",
     "text": [
      "/usr/local/lib/python3.11/site-packages/IPython/core/interactiveshell.py:3707: UserWarning: To exit: use 'exit', 'quit', or Ctrl-D.\n",
      "  warn(\"To exit: use 'exit', 'quit', or Ctrl-D.\", stacklevel=1)\n"
     ]
    }
   ],
   "source": [
    "\n",
    "driver.quit()\n",
    "\n",
    "if success:\n",
    "    sys.exit(0)  # Success\n",
    "else:\n",
    "    sys.exit(1)"
   ]
  },
  {
   "cell_type": "code",
   "execution_count": null,
   "id": "60968b54",
   "metadata": {},
   "outputs": [],
   "source": [
    "\n",
    "success = False\n",
    "if possible_to_book:\n",
    "    if check_basket(driver, login_url): #check empty basket\n",
    "        driver.get(planning_url) #go to planning after login\n",
    "       \n",
    "        if next_week_booking:\n",
    "            next_week_btn = driver.find_element(By.XPATH, \"//input[@value='Next Week']\")\n",
    "            next_week_btn.click()\n",
    "        time.sleep(3)  # Attendre le chargement\n",
    "        # Screenshot\n",
    "        driver.save_screenshot(\"5_planning_page.png\")\n",
    "        print(\"📸 Screenshot: planning_page.png\")\n",
    "        slot_available = look_for_slots(driver, TARGET_DATE, COURSE_LEVEL, TARGET_TIME)\n",
    "        if slot_available:\n",
    "            if click_on_slot(driver, slot_available):\n",
    "                if click_for_me(driver, TARGET_DATE, my_name):\n",
    "                    click_confirm_basket(driver)\n",
    "                    success = click_confirm_basket(driver)\n",
    "\n",
    "driver.quit()\n",
    "\n",
    "if success:\n",
    "    sys.exit(0)  # Success\n",
    "else:\n",
    "    sys.exit(1)"
   ]
  }
 ],
 "metadata": {
  "kernelspec": {
   "display_name": "Python 3",
   "language": "python",
   "name": "python3"
  },
  "language_info": {
   "codemirror_mode": {
    "name": "ipython",
    "version": 3
   },
   "file_extension": ".py",
   "mimetype": "text/x-python",
   "name": "python",
   "nbconvert_exporter": "python",
   "pygments_lexer": "ipython3",
   "version": "3.11.13"
  }
 },
 "nbformat": 4,
 "nbformat_minor": 5
}
