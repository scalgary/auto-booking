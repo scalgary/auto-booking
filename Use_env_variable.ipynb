{
 "cells": [
  {
   "cell_type": "code",
   "execution_count": 5,
   "id": "3dc7d021",
   "metadata": {},
   "outputs": [],
   "source": [
    "from dotenv import load_dotenv\n",
    "import os\n",
    "\n",
    "load_dotenv()  # Charge le fichier .env\n",
    "\n",
    "EMAIL = os.getenv('LOGIN_EMAIL')\n",
    "PASSWORD = os.getenv('LOGIN_PASSWORD')\n",
    "WEBSITE_URL = os.getenv('WEBSITE_URL')"
   ]
  },
  {
   "cell_type": "code",
   "execution_count": 2,
   "id": "c8bad077",
   "metadata": {},
   "outputs": [
    {
     "data": {
      "text/plain": [
       "'https://mycalgaryjcc.com/CJCC/public/Logon/Logon'"
      ]
     },
     "execution_count": 2,
     "metadata": {},
     "output_type": "execute_result"
    }
   ],
   "source": [
    "WEBSITE_URL"
   ]
  }
 ],
 "metadata": {
  "kernelspec": {
   "display_name": "Python 3",
   "language": "python",
   "name": "python3"
  },
  "language_info": {
   "codemirror_mode": {
    "name": "ipython",
    "version": 3
   },
   "file_extension": ".py",
   "mimetype": "text/x-python",
   "name": "python",
   "nbconvert_exporter": "python",
   "pygments_lexer": "ipython3",
   "version": "3.12.1"
  }
 },
 "nbformat": 4,
 "nbformat_minor": 5
}
