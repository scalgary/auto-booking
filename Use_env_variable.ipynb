{
 "cells": [
  {
   "cell_type": "code",
   "execution_count": null,
   "id": "3dc7d021",
   "metadata": {},
   "outputs": [],
   "source": [
    "from dotenv import load_dotenv\n",
    "import os\n",
    "\n",
    "load_dotenv()  # Charge le fichier .env\n",
    "\n",
    "EMAIL = os.getenv('YOUR_SECRET_EMAIL')\n",
    "PASSWORD = os.getenv('YOUR_SECRET_PASSWORD')\n",
    "WEBSITE_URL = os.getenv('YOUR_SECRET_LOGON_URL')"
   ]
  },
  {
   "cell_type": "code",
   "execution_count": null,
   "id": "c8bad077",
   "metadata": {},
   "outputs": [],
   "source": [
    "#WEBSITE_URL"
   ]
  }
 ],
 "metadata": {
  "kernelspec": {
   "display_name": "Python 3",
   "language": "python",
   "name": "python3"
  },
  "language_info": {
   "codemirror_mode": {
    "name": "ipython",
    "version": 3
   },
   "file_extension": ".py",
   "mimetype": "text/x-python",
   "name": "python",
   "nbconvert_exporter": "python",
   "pygments_lexer": "ipython3",
   "version": "3.12.1"
  }
 },
 "nbformat": 4,
 "nbformat_minor": 5
}
